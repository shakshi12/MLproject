{
 "cells": [
  {
   "cell_type": "code",
   "execution_count": 1,
   "metadata": {},
   "outputs": [],
   "source": [
    "\n",
    "## import the classes your class uses under the hood. Send these imports to me in notebook.\n",
    "from sklearn.magic_transformers import Foo \n",
    "from sklearn.best_models import Bar\n",
    "\n",
    "\n",
    "class AdverseMediaClassifier():\n",
    "    def predict(self, df_with_title_and_article):\n",
    "        transformed_df = ... # do your own transformations here (you need to send this code to me in notebook)\n",
    "        transformed_by_foo = self.foo.transform(transformed_df)\n",
    "        return self.bar.predict(transformed_by_foo)\n"
   ]
  },
  {
   "cell_type": "code",
   "execution_count": 2,
   "metadata": {},
   "outputs": [
    {
     "data": {
      "text/plain": [
       "__main__.AdverseMediaClassifier"
      ]
     },
     "execution_count": 2,
     "metadata": {},
     "output_type": "execute_result"
    }
   ],
   "source": [
    "   \n",
    "import pickle\n",
    "\n",
    "with open('AdverseMediaClassifier.pickle', 'rb') as file:\n",
    "    amc = pickle.load(file)\n",
    "    \n",
    "type(amc)"
   ]
  },
  {
   "cell_type": "code",
   "execution_count": 6,
   "metadata": {},
   "outputs": [],
   "source": [
    "import pandas as pd\n",
    "import numpy as np\n",
    "public_test = pd.read_csv('../public_test.csv', index_col='id')\n",
    "\n",
    "\n",
    "X_test_public = public_test[['title', 'article']]\n",
    "\n",
    "\n",
    "predicted = amc.predict(X_test_public)\n"
   ]
  },
  {
   "cell_type": "code",
   "execution_count": 7,
   "metadata": {},
   "outputs": [
    {
     "data": {
      "text/plain": [
       "0.9297297297297297"
      ]
     },
     "execution_count": 7,
     "metadata": {},
     "output_type": "execute_result"
    }
   ],
   "source": [
    "\n",
    "from sklearn.metrics import f1_score\n",
    "\n",
    "y_test_public = public_test[['label']]\n",
    "\n",
    "\n",
    "f1_score(y_test_public, predicted)\n"
   ]
  },
  {
   "cell_type": "code",
   "execution_count": null,
   "metadata": {},
   "outputs": [],
   "source": []
  }
 ],
 "metadata": {
  "kernelspec": {
   "display_name": "Python 3",
   "language": "python",
   "name": "python3"
  },
  "language_info": {
   "codemirror_mode": {
    "name": "ipython",
    "version": 3
   },
   "file_extension": ".py",
   "mimetype": "text/x-python",
   "name": "python",
   "nbconvert_exporter": "python",
   "pygments_lexer": "ipython3",
   "version": "3.6.9"
  }
 },
 "nbformat": 4,
 "nbformat_minor": 4
}
