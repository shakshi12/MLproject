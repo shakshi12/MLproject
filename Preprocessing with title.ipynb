{
 "cells": [
  {
   "cell_type": "code",
   "execution_count": 1,
   "metadata": {},
   "outputs": [],
   "source": [
    "import numpy as np\n",
    "import pandas as pd"
   ]
  },
  {
   "cell_type": "markdown",
   "metadata": {},
   "source": [
    "### Read in am articles"
   ]
  },
  {
   "cell_type": "code",
   "execution_count": 2,
   "metadata": {},
   "outputs": [
    {
     "data": {
      "text/plain": [
       "'done'"
      ]
     },
     "execution_count": 2,
     "metadata": {},
     "output_type": "execute_result"
    }
   ],
   "source": [
    "am_raw = pd.read_csv('./adverse/am.csv', encoding='latin1', error_bad_lines=False, sep=\"\\t\")\n",
    "am1 = am_raw[[\"article\", \"label\", \"title\"]]\n",
    "am_raw2 = pd.read_csv('./adverse/am2.tsv', encoding='latin1', error_bad_lines=False, sep=\"\\t\")\n",
    "am2 = am_raw2[[\"article\", \"label\", \"title\"]]\n",
    "am = pd.concat((am1, am2))\n",
    "\n",
    "random_from_am = am[am[\"label\"] == \"random\"]\n",
    "nam_from_am = am[am[\"label\"] == \"nam\"]\n",
    "\n",
    "am = am[(am[\"label\"] == \"am\")]\n",
    "am.dropna()\n",
    "\"done\""
   ]
  },
  {
   "cell_type": "markdown",
   "metadata": {},
   "source": [
    "### Read in nam articles"
   ]
  },
  {
   "cell_type": "code",
   "execution_count": 3,
   "metadata": {},
   "outputs": [],
   "source": [
    "nam_raw = pd.read_csv('./nonadverse/nam.csv', encoding='latin1', error_bad_lines=False, sep=\"\\t\")\n",
    "nam1 = nam_raw[[\"article\", \"label\", \"title\"]]"
   ]
  },
  {
   "cell_type": "code",
   "execution_count": 4,
   "metadata": {},
   "outputs": [],
   "source": [
    "nam_raw2 = pd.read_csv('./nonadverse/nam2.tsv', encoding='latin1', error_bad_lines=False, sep=\"\\t\")\n",
    "nam2 = nam_raw2[[\"article\", \"label\", \"title\"]]"
   ]
  },
  {
   "cell_type": "code",
   "execution_count": 5,
   "metadata": {},
   "outputs": [],
   "source": [
    "random_raw = pd.read_csv('./nonadverse/random.csv', encoding='latin1', error_bad_lines=False, sep=\"\\t\")\n",
    "random = random_raw[[\"article\", \"label\", \"title\"]]"
   ]
  },
  {
   "cell_type": "code",
   "execution_count": 6,
   "metadata": {},
   "outputs": [],
   "source": [
    "nam = pd.concat((nam1, nam2, random, random_from_am, nam_from_am))\n",
    "am_from_nam = nam[nam[\"label\"] == \"am\"]\n",
    "am = pd.concat((am, am_from_nam))\n",
    "nam = nam[(nam[\"label\"] == \"nam\") | (nam[\"label\"] == \"random\")]"
   ]
  },
  {
   "cell_type": "code",
   "execution_count": 7,
   "metadata": {},
   "outputs": [],
   "source": [
    "am.reset_index(drop=True, inplace = True)\n",
    "nam.reset_index(drop=True, inplace = True)"
   ]
  },
  {
   "cell_type": "code",
   "execution_count": 8,
   "metadata": {},
   "outputs": [
    {
     "data": {
      "text/plain": [
       "am     684\n",
       "nam    534\n",
       "Name: label, dtype: int64"
      ]
     },
     "execution_count": 8,
     "metadata": {},
     "output_type": "execute_result"
    }
   ],
   "source": [
    "total = pd.concat((am, nam))\n",
    "total[\"label\"].replace(to_replace={\"random\":\"nam\"}, inplace=True)\n",
    "total.dropna()\n",
    "total.reset_index(drop=True, inplace = True)\n",
    "total[\"label\"].value_counts()"
   ]
  },
  {
   "cell_type": "code",
   "execution_count": 9,
   "metadata": {},
   "outputs": [
    {
     "data": {
      "text/html": [
       "<div>\n",
       "<style scoped>\n",
       "    .dataframe tbody tr th:only-of-type {\n",
       "        vertical-align: middle;\n",
       "    }\n",
       "\n",
       "    .dataframe tbody tr th {\n",
       "        vertical-align: top;\n",
       "    }\n",
       "\n",
       "    .dataframe thead th {\n",
       "        text-align: right;\n",
       "    }\n",
       "</style>\n",
       "<table border=\"1\" class=\"dataframe\">\n",
       "  <thead>\n",
       "    <tr style=\"text-align: right;\">\n",
       "      <th></th>\n",
       "      <th>article</th>\n",
       "      <th>label</th>\n",
       "      <th>title</th>\n",
       "    </tr>\n",
       "  </thead>\n",
       "  <tbody>\n",
       "    <tr>\n",
       "      <th>0</th>\n",
       "      <td>Bernie Madoff, who is scheduled to be sentence...</td>\n",
       "      <td>am</td>\n",
       "      <td>Top 10 Crooked CEOs</td>\n",
       "    </tr>\n",
       "    <tr>\n",
       "      <th>1</th>\n",
       "      <td>Published\\n\\nOne of the world's leading fund m...</td>\n",
       "      <td>am</td>\n",
       "      <td>Top fund manager forced to resign after BBC in...</td>\n",
       "    </tr>\n",
       "    <tr>\n",
       "      <th>2</th>\n",
       "      <td>Published\\n\\nThe founder of US futures broker ...</td>\n",
       "      <td>am</td>\n",
       "      <td>Peregrine Financial Group boss admits $100m fraud</td>\n",
       "    </tr>\n",
       "    <tr>\n",
       "      <th>3</th>\n",
       "      <td>WASHINGTON (AP) â An American security contr...</td>\n",
       "      <td>am</td>\n",
       "      <td>American accuses Congo officials of unlawful a...</td>\n",
       "    </tr>\n",
       "    <tr>\n",
       "      <th>4</th>\n",
       "      <td>A senior figure in the Bitcoin Foundation, whi...</td>\n",
       "      <td>am</td>\n",
       "      <td>Bitcoin Foundation vice chair arrested for mon...</td>\n",
       "    </tr>\n",
       "  </tbody>\n",
       "</table>\n",
       "</div>"
      ],
      "text/plain": [
       "                                             article label  \\\n",
       "0  Bernie Madoff, who is scheduled to be sentence...    am   \n",
       "1  Published\\n\\nOne of the world's leading fund m...    am   \n",
       "2  Published\\n\\nThe founder of US futures broker ...    am   \n",
       "3  WASHINGTON (AP) â An American security contr...    am   \n",
       "4  A senior figure in the Bitcoin Foundation, whi...    am   \n",
       "\n",
       "                                               title  \n",
       "0                                Top 10 Crooked CEOs  \n",
       "1  Top fund manager forced to resign after BBC in...  \n",
       "2  Peregrine Financial Group boss admits $100m fraud  \n",
       "3  American accuses Congo officials of unlawful a...  \n",
       "4  Bitcoin Foundation vice chair arrested for mon...  "
      ]
     },
     "execution_count": 9,
     "metadata": {},
     "output_type": "execute_result"
    }
   ],
   "source": [
    "total.head()"
   ]
  },
  {
   "cell_type": "code",
   "execution_count": 11,
   "metadata": {},
   "outputs": [],
   "source": [
    "total.to_csv(\"cleaned_with_title_am_nam.csv\", sep=\"\\t\")"
   ]
  }
 ],
 "metadata": {
  "kernelspec": {
   "display_name": "Python 3",
   "language": "python",
   "name": "python3"
  },
  "language_info": {
   "codemirror_mode": {
    "name": "ipython",
    "version": 3
   },
   "file_extension": ".py",
   "mimetype": "text/x-python",
   "name": "python",
   "nbconvert_exporter": "python",
   "pygments_lexer": "ipython3",
   "version": "3.8.5"
  }
 },
 "nbformat": 4,
 "nbformat_minor": 4
}
