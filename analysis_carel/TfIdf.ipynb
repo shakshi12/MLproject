{
  "nbformat": 4,
  "nbformat_minor": 0,
  "metadata": {
    "colab": {
      "name": "TfIdf.ipynb",
      "provenance": []
    },
    "kernelspec": {
      "name": "python3",
      "display_name": "Python 3"
    }
  },
  "cells": [
    {
      "cell_type": "code",
      "metadata": {
        "id": "KlabWzLE2eih"
      },
      "source": [
        "from keras.utils import to_categorical\n",
        "from keras.models import Sequential, Model\n",
        "from keras.layers import Dense, Dropout, LayerNormalization, BatchNormalization\n",
        "import tensorflow as tf\n",
        "\n",
        "from sklearn.preprocessing import LabelEncoder\n",
        "from sklearn.model_selection import train_test_split\n",
        "from sklearn import metrics\n",
        "from sklearn.feature_extraction.text import TfidfVectorizer\n",
        "import numpy as np\n",
        "import pandas as pd\n",
        "from sklearn.decomposition import PCA"
      ],
      "execution_count": 1,
      "outputs": []
    },
    {
      "cell_type": "code",
      "metadata": {
        "colab": {
          "base_uri": "https://localhost:8080/"
        },
        "id": "AluAf-Rs2zVJ",
        "outputId": "3caa846d-4da7-478a-df17-de4bb8354d20"
      },
      "source": [
        "import os\n",
        "from google.colab import drive\n",
        "drive.mount('/content/drive')\n",
        "os.chdir(\"/content/drive//My Drive/Andmeteadus/Masinõpe/4N/\")"
      ],
      "execution_count": 2,
      "outputs": [
        {
          "output_type": "stream",
          "text": [
            "Mounted at /content/drive\n"
          ],
          "name": "stdout"
        }
      ]
    },
    {
      "cell_type": "code",
      "metadata": {
        "colab": {
          "base_uri": "https://localhost:8080/"
        },
        "id": "xii9uCbt2zuk",
        "outputId": "76fb8661-4b1f-4937-e020-ce8abb02eeb7"
      },
      "source": [
        "data = pd.read_csv(\"cleaned_with_title_am_nam.csv\", sep=\"\\t\")\n",
        "print(data.shape)\n",
        "data.dropna()\n",
        "train_, test_ = train_test_split(data, train_size=0.8, test_size=0.2, shuffle=True)\n",
        "def preprocess(data):\n",
        "  new_articles = []\n",
        "  for i in data.iterrows():\n",
        "    if type(i[1][\"title\"]) == float or type(i[1][\"article\"]) == float:\n",
        "      new_articles.append(\"\")\n",
        "      continue\n",
        "\n",
        "    new_articles.append(i[1][\"title\"]+\" \"+i[1][\"article\"])\n",
        "  data[\"data\"] = np.array(new_articles)\n",
        "  return data\n",
        "#data.head()"
      ],
      "execution_count": 3,
      "outputs": [
        {
          "output_type": "stream",
          "text": [
            "(1218, 4)\n"
          ],
          "name": "stdout"
        }
      ]
    },
    {
      "cell_type": "code",
      "metadata": {
        "colab": {
          "base_uri": "https://localhost:8080/"
        },
        "id": "F7sHRSuM2z_O",
        "outputId": "741d4d38-1f35-4bc2-a5e0-0408c16278e2"
      },
      "source": [
        "le = LabelEncoder()\n",
        "train = preprocess(train_)\n",
        "train_X = train[\"data\"]\n",
        "train_y_ = train[\"label\"]\n",
        "train_y = to_categorical(le.fit_transform(train_y_))\n",
        "\n",
        "test = preprocess(test_)\n",
        "test_X = test[\"data\"]\n",
        "test_y_ = test[\"label\"]\n",
        "test_y = to_categorical(le.transform(test_y_))"
      ],
      "execution_count": 4,
      "outputs": [
        {
          "output_type": "stream",
          "text": [
            "/usr/local/lib/python3.6/dist-packages/ipykernel_launcher.py:13: SettingWithCopyWarning: \n",
            "A value is trying to be set on a copy of a slice from a DataFrame.\n",
            "Try using .loc[row_indexer,col_indexer] = value instead\n",
            "\n",
            "See the caveats in the documentation: https://pandas.pydata.org/pandas-docs/stable/user_guide/indexing.html#returning-a-view-versus-a-copy\n",
            "  del sys.path[0]\n"
          ],
          "name": "stderr"
        }
      ]
    },
    {
      "cell_type": "code",
      "metadata": {
        "colab": {
          "base_uri": "https://localhost:8080/"
        },
        "id": "JDbuMN-B3i_r",
        "outputId": "f2342e35-8e25-40c0-b932-acad99fe98dc"
      },
      "source": [
        "test_y.shape, test_X.shape, train_X.shape, train_y.shape"
      ],
      "execution_count": 5,
      "outputs": [
        {
          "output_type": "execute_result",
          "data": {
            "text/plain": [
              "((244, 2), (244,), (974,), (974, 2))"
            ]
          },
          "metadata": {
            "tags": []
          },
          "execution_count": 5
        }
      ]
    },
    {
      "cell_type": "code",
      "metadata": {
        "colab": {
          "base_uri": "https://localhost:8080/"
        },
        "id": "6JIU-W-720Sz",
        "outputId": "8f5a3f23-10f4-4490-d05e-62fb10a1d414"
      },
      "source": [
        "tfidf_vect = TfidfVectorizer(stop_words=\"english\")\n",
        "X_train_tfidf = tfidf_vect.fit_transform(train_X)\n",
        "\n",
        "X_test_tfidf = tfidf_vect.transform(test_X)\n",
        "\n",
        "\n",
        "vect_size = X_train_tfidf.shape[1]\n",
        "\n",
        "model = Sequential()\n",
        "#model.add(Dense(1024,input_shape=(vect_size,), activation=\"tanh\"))\n",
        "#model.add(BatchNormalization())\n",
        "#model.add(Dropout(0.5))\n",
        "#model.add(Dense(512,input_shape=(vect_size,), activation=\"relu\"))\n",
        "#model.add(LayerNormalization())\n",
        "#model.add(Dropout(0.5))\n",
        "model.add(Dense(128,input_shape=(vect_size,), activation=\"tanh\"))\n",
        "model.add(LayerNormalization())\n",
        "model.add(Dropout(0.5))\n",
        "model.add(Dense(32, activation=\"relu\"))\n",
        "model.add(LayerNormalization())\n",
        "model.add(Dropout(0.5))\n",
        "\n",
        "#0.934\n",
        "#d128 \n",
        "#d32\n",
        "#d0.5, layer\n",
        "\n",
        "#0.93\n",
        "#d1024 tanh\n",
        "#bn\n",
        "#d0.5\n",
        "#d256 tanh\n",
        "#bn\n",
        "#d0.5\n",
        "#d128 tanh\n",
        "#bn\n",
        "#d0.5\n",
        "#d32 relu\n",
        "#bn\n",
        "#d0.5\n",
        "model.add(Dense(2, activation='softmax'))\n",
        "\n",
        "model.compile('adam', 'categorical_crossentropy', metrics=['accuracy'])\n",
        "\n",
        "model.summary()"
      ],
      "execution_count": 16,
      "outputs": [
        {
          "output_type": "stream",
          "text": [
            "Model: \"sequential_2\"\n",
            "_________________________________________________________________\n",
            "Layer (type)                 Output Shape              Param #   \n",
            "=================================================================\n",
            "dense_7 (Dense)              (None, 128)               4235136   \n",
            "_________________________________________________________________\n",
            "layer_normalization_5 (Layer (None, 128)               256       \n",
            "_________________________________________________________________\n",
            "dropout_5 (Dropout)          (None, 128)               0         \n",
            "_________________________________________________________________\n",
            "dense_8 (Dense)              (None, 32)                4128      \n",
            "_________________________________________________________________\n",
            "layer_normalization_6 (Layer (None, 32)                64        \n",
            "_________________________________________________________________\n",
            "dropout_6 (Dropout)          (None, 32)                0         \n",
            "_________________________________________________________________\n",
            "dense_9 (Dense)              (None, 2)                 66        \n",
            "=================================================================\n",
            "Total params: 4,239,650\n",
            "Trainable params: 4,239,650\n",
            "Non-trainable params: 0\n",
            "_________________________________________________________________\n"
          ],
          "name": "stdout"
        }
      ]
    },
    {
      "cell_type": "code",
      "metadata": {
        "colab": {
          "base_uri": "https://localhost:8080/"
        },
        "id": "5pj-6qY233bY",
        "outputId": "ed28b9dc-5d66-404f-8c68-0b4dc3afdc91"
      },
      "source": [
        "model.fit(X_train_tfidf.toarray(), train_y,\n",
        "          batch_size=64,\n",
        "          epochs=20,\n",
        "          validation_data=(X_test_tfidf.toarray(), test_y))"
      ],
      "execution_count": 17,
      "outputs": [
        {
          "output_type": "stream",
          "text": [
            "Epoch 1/20\n",
            "16/16 [==============================] - 1s 50ms/step - loss: 0.7025 - accuracy: 0.7341 - val_loss: 0.3119 - val_accuracy: 0.8607\n",
            "Epoch 2/20\n",
            "16/16 [==============================] - 1s 38ms/step - loss: 0.2549 - accuracy: 0.9035 - val_loss: 0.2964 - val_accuracy: 0.8852\n",
            "Epoch 3/20\n",
            "16/16 [==============================] - 1s 37ms/step - loss: 0.1042 - accuracy: 0.9630 - val_loss: 0.3341 - val_accuracy: 0.8934\n",
            "Epoch 4/20\n",
            "16/16 [==============================] - 1s 38ms/step - loss: 0.0645 - accuracy: 0.9815 - val_loss: 0.3658 - val_accuracy: 0.8852\n",
            "Epoch 5/20\n",
            "16/16 [==============================] - 1s 39ms/step - loss: 0.0526 - accuracy: 0.9815 - val_loss: 0.3919 - val_accuracy: 0.8811\n",
            "Epoch 6/20\n",
            "16/16 [==============================] - 1s 38ms/step - loss: 0.0380 - accuracy: 0.9897 - val_loss: 0.4585 - val_accuracy: 0.8811\n",
            "Epoch 7/20\n",
            "16/16 [==============================] - 1s 38ms/step - loss: 0.0236 - accuracy: 0.9938 - val_loss: 0.5079 - val_accuracy: 0.8852\n",
            "Epoch 8/20\n",
            "16/16 [==============================] - 1s 38ms/step - loss: 0.0167 - accuracy: 0.9949 - val_loss: 0.5396 - val_accuracy: 0.8852\n",
            "Epoch 9/20\n",
            "16/16 [==============================] - 1s 38ms/step - loss: 0.0247 - accuracy: 0.9918 - val_loss: 0.5731 - val_accuracy: 0.8852\n",
            "Epoch 10/20\n",
            "16/16 [==============================] - 1s 38ms/step - loss: 0.0135 - accuracy: 0.9969 - val_loss: 0.5762 - val_accuracy: 0.8852\n",
            "Epoch 11/20\n",
            "16/16 [==============================] - 1s 38ms/step - loss: 0.0178 - accuracy: 0.9969 - val_loss: 0.5567 - val_accuracy: 0.8934\n",
            "Epoch 12/20\n",
            "16/16 [==============================] - 1s 37ms/step - loss: 0.0114 - accuracy: 0.9959 - val_loss: 0.5731 - val_accuracy: 0.8811\n",
            "Epoch 13/20\n",
            "16/16 [==============================] - 1s 38ms/step - loss: 0.0182 - accuracy: 0.9959 - val_loss: 0.5811 - val_accuracy: 0.8934\n",
            "Epoch 14/20\n",
            "16/16 [==============================] - 1s 37ms/step - loss: 0.0085 - accuracy: 0.9979 - val_loss: 0.5830 - val_accuracy: 0.8934\n",
            "Epoch 15/20\n",
            "16/16 [==============================] - 1s 37ms/step - loss: 0.0106 - accuracy: 0.9979 - val_loss: 0.6016 - val_accuracy: 0.8934\n",
            "Epoch 16/20\n",
            "16/16 [==============================] - 1s 38ms/step - loss: 0.0089 - accuracy: 0.9969 - val_loss: 0.6134 - val_accuracy: 0.8975\n",
            "Epoch 17/20\n",
            "16/16 [==============================] - 1s 39ms/step - loss: 0.0054 - accuracy: 1.0000 - val_loss: 0.6165 - val_accuracy: 0.9057\n",
            "Epoch 18/20\n",
            "16/16 [==============================] - 1s 37ms/step - loss: 0.0094 - accuracy: 0.9979 - val_loss: 0.6283 - val_accuracy: 0.9057\n",
            "Epoch 19/20\n",
            "16/16 [==============================] - 1s 38ms/step - loss: 0.0104 - accuracy: 0.9969 - val_loss: 0.6508 - val_accuracy: 0.9016\n",
            "Epoch 20/20\n",
            "16/16 [==============================] - 1s 37ms/step - loss: 0.0051 - accuracy: 0.9979 - val_loss: 0.6655 - val_accuracy: 0.9016\n"
          ],
          "name": "stdout"
        },
        {
          "output_type": "execute_result",
          "data": {
            "text/plain": [
              "<tensorflow.python.keras.callbacks.History at 0x7fb003db6128>"
            ]
          },
          "metadata": {
            "tags": []
          },
          "execution_count": 17
        }
      ]
    },
    {
      "cell_type": "code",
      "metadata": {
        "colab": {
          "base_uri": "https://localhost:8080/"
        },
        "id": "n4WgnYo3McKp",
        "outputId": "5064394d-7928-4dcb-9d49-913d5aedb600"
      },
      "source": [
        "y_predict = model.predict(X_test_tfidf.toarray())\n",
        "y_pred = np.argmax(y_predict, axis=1)\n",
        "y_true = np.argmax(test_y, axis=1)\n",
        "\n",
        "metrics.f1_score(y_true, y_pred)"
      ],
      "execution_count": 18,
      "outputs": [
        {
          "output_type": "execute_result",
          "data": {
            "text/plain": [
              "0.894736842105263"
            ]
          },
          "metadata": {
            "tags": []
          },
          "execution_count": 18
        }
      ]
    },
    {
      "cell_type": "code",
      "metadata": {
        "colab": {
          "base_uri": "https://localhost:8080/"
        },
        "id": "GJUkAjBx4UWH",
        "outputId": "376f54a3-660a-46fb-a98a-0f0e361eea73"
      },
      "source": [
        "pca = PCA(n_components=0.95)\n",
        "X_train = pca.fit_transform(X_train_tfidf.toarray())\n",
        "X_test = pca.transform(X_test_tfidf.toarray())\n",
        "vect_size = X_train.shape[1]\n",
        "X_test.shape, X_train.shape"
      ],
      "execution_count": 19,
      "outputs": [
        {
          "output_type": "execute_result",
          "data": {
            "text/plain": [
              "((244, 821), (974, 821))"
            ]
          },
          "metadata": {
            "tags": []
          },
          "execution_count": 19
        }
      ]
    },
    {
      "cell_type": "code",
      "metadata": {
        "colab": {
          "base_uri": "https://localhost:8080/"
        },
        "id": "Ci5qWMsa-U52",
        "outputId": "c7c1b384-8a41-45b4-9779-05dc05333aae"
      },
      "source": [
        "model = Sequential()\n",
        "#model.add(Dense(1024,input_shape=(vect_size,), activation=\"tanh\"))\n",
        "#model.add(LayerNormalization())\n",
        "#model.add(Dropout(0.5))\n",
        "model.add(Dense(256, input_shape=(vect_size,), activation=\"tanh\"))\n",
        "model.add(LayerNormalization())\n",
        "model.add(Dropout(0.5))\n",
        "model.add(Dense(64, activation=\"relu\"))\n",
        "model.add(LayerNormalization())\n",
        "model.add(Dropout(0.25))\n",
        "model.add(Dense(16, activation=\"relu\"))\n",
        "model.add(LayerNormalization())\n",
        "model.add(Dropout(0.25))\n",
        "\n",
        "model.add(Dense(2, activation='softmax'))\n",
        "\n",
        "model.compile('adam', 'categorical_crossentropy', metrics=['accuracy'])\n",
        "\n",
        "model.summary()"
      ],
      "execution_count": 27,
      "outputs": [
        {
          "output_type": "stream",
          "text": [
            "Model: \"sequential_4\"\n",
            "_________________________________________________________________\n",
            "Layer (type)                 Output Shape              Param #   \n",
            "=================================================================\n",
            "dense_15 (Dense)             (None, 256)               210432    \n",
            "_________________________________________________________________\n",
            "layer_normalization_11 (Laye (None, 256)               512       \n",
            "_________________________________________________________________\n",
            "dropout_11 (Dropout)         (None, 256)               0         \n",
            "_________________________________________________________________\n",
            "dense_16 (Dense)             (None, 64)                16448     \n",
            "_________________________________________________________________\n",
            "layer_normalization_12 (Laye (None, 64)                128       \n",
            "_________________________________________________________________\n",
            "dropout_12 (Dropout)         (None, 64)                0         \n",
            "_________________________________________________________________\n",
            "dense_17 (Dense)             (None, 16)                1040      \n",
            "_________________________________________________________________\n",
            "layer_normalization_13 (Laye (None, 16)                32        \n",
            "_________________________________________________________________\n",
            "dropout_13 (Dropout)         (None, 16)                0         \n",
            "_________________________________________________________________\n",
            "dense_18 (Dense)             (None, 2)                 34        \n",
            "=================================================================\n",
            "Total params: 228,626\n",
            "Trainable params: 228,626\n",
            "Non-trainable params: 0\n",
            "_________________________________________________________________\n"
          ],
          "name": "stdout"
        }
      ]
    },
    {
      "cell_type": "code",
      "metadata": {
        "colab": {
          "base_uri": "https://localhost:8080/"
        },
        "id": "ZVrLSFg6-csU",
        "outputId": "4fbf6f0a-ab8c-43b3-ef8d-997618840e91"
      },
      "source": [
        "model.fit(X_train, train_y,\n",
        "          batch_size=64,\n",
        "          epochs=40,\n",
        "          validation_data=(X_test, test_y))"
      ],
      "execution_count": 28,
      "outputs": [
        {
          "output_type": "stream",
          "text": [
            "Epoch 1/40\n",
            "16/16 [==============================] - 0s 20ms/step - loss: 1.0846 - accuracy: 0.5339 - val_loss: 0.5850 - val_accuracy: 0.7049\n",
            "Epoch 2/40\n",
            "16/16 [==============================] - 0s 7ms/step - loss: 0.7025 - accuracy: 0.6314 - val_loss: 0.4420 - val_accuracy: 0.8115\n",
            "Epoch 3/40\n",
            "16/16 [==============================] - 0s 7ms/step - loss: 0.6495 - accuracy: 0.6817 - val_loss: 0.3878 - val_accuracy: 0.8279\n",
            "Epoch 4/40\n",
            "16/16 [==============================] - 0s 7ms/step - loss: 0.5164 - accuracy: 0.7515 - val_loss: 0.3432 - val_accuracy: 0.8648\n",
            "Epoch 5/40\n",
            "16/16 [==============================] - 0s 7ms/step - loss: 0.4300 - accuracy: 0.7916 - val_loss: 0.3074 - val_accuracy: 0.9016\n",
            "Epoch 6/40\n",
            "16/16 [==============================] - 0s 8ms/step - loss: 0.3771 - accuracy: 0.8439 - val_loss: 0.2952 - val_accuracy: 0.8852\n",
            "Epoch 7/40\n",
            "16/16 [==============================] - 0s 7ms/step - loss: 0.2717 - accuracy: 0.8932 - val_loss: 0.2853 - val_accuracy: 0.8934\n",
            "Epoch 8/40\n",
            "16/16 [==============================] - 0s 7ms/step - loss: 0.2156 - accuracy: 0.9189 - val_loss: 0.3017 - val_accuracy: 0.8893\n",
            "Epoch 9/40\n",
            "16/16 [==============================] - 0s 7ms/step - loss: 0.2006 - accuracy: 0.9281 - val_loss: 0.3141 - val_accuracy: 0.8934\n",
            "Epoch 10/40\n",
            "16/16 [==============================] - 0s 7ms/step - loss: 0.1455 - accuracy: 0.9528 - val_loss: 0.3435 - val_accuracy: 0.8975\n",
            "Epoch 11/40\n",
            "16/16 [==============================] - 0s 7ms/step - loss: 0.1239 - accuracy: 0.9661 - val_loss: 0.3658 - val_accuracy: 0.8975\n",
            "Epoch 12/40\n",
            "16/16 [==============================] - 0s 7ms/step - loss: 0.1065 - accuracy: 0.9682 - val_loss: 0.3726 - val_accuracy: 0.8975\n",
            "Epoch 13/40\n",
            "16/16 [==============================] - 0s 8ms/step - loss: 0.1094 - accuracy: 0.9641 - val_loss: 0.3866 - val_accuracy: 0.8975\n",
            "Epoch 14/40\n",
            "16/16 [==============================] - 0s 7ms/step - loss: 0.0792 - accuracy: 0.9805 - val_loss: 0.4463 - val_accuracy: 0.8975\n",
            "Epoch 15/40\n",
            "16/16 [==============================] - 0s 7ms/step - loss: 0.0637 - accuracy: 0.9795 - val_loss: 0.4467 - val_accuracy: 0.9016\n",
            "Epoch 16/40\n",
            "16/16 [==============================] - 0s 7ms/step - loss: 0.0749 - accuracy: 0.9795 - val_loss: 0.4646 - val_accuracy: 0.9016\n",
            "Epoch 17/40\n",
            "16/16 [==============================] - 0s 7ms/step - loss: 0.0638 - accuracy: 0.9795 - val_loss: 0.4941 - val_accuracy: 0.8893\n",
            "Epoch 18/40\n",
            "16/16 [==============================] - 0s 7ms/step - loss: 0.0607 - accuracy: 0.9836 - val_loss: 0.4831 - val_accuracy: 0.9016\n",
            "Epoch 19/40\n",
            "16/16 [==============================] - 0s 8ms/step - loss: 0.0548 - accuracy: 0.9856 - val_loss: 0.4911 - val_accuracy: 0.8975\n",
            "Epoch 20/40\n",
            "16/16 [==============================] - 0s 7ms/step - loss: 0.0394 - accuracy: 0.9928 - val_loss: 0.5137 - val_accuracy: 0.8852\n",
            "Epoch 21/40\n",
            "16/16 [==============================] - 0s 7ms/step - loss: 0.0470 - accuracy: 0.9887 - val_loss: 0.4739 - val_accuracy: 0.8975\n",
            "Epoch 22/40\n",
            "16/16 [==============================] - 0s 7ms/step - loss: 0.0262 - accuracy: 0.9938 - val_loss: 0.4626 - val_accuracy: 0.8975\n",
            "Epoch 23/40\n",
            "16/16 [==============================] - 0s 7ms/step - loss: 0.0280 - accuracy: 0.9938 - val_loss: 0.4882 - val_accuracy: 0.9016\n",
            "Epoch 24/40\n",
            "16/16 [==============================] - 0s 7ms/step - loss: 0.0294 - accuracy: 0.9938 - val_loss: 0.5182 - val_accuracy: 0.8975\n",
            "Epoch 25/40\n",
            "16/16 [==============================] - 0s 8ms/step - loss: 0.0269 - accuracy: 0.9928 - val_loss: 0.5247 - val_accuracy: 0.8934\n",
            "Epoch 26/40\n",
            "16/16 [==============================] - 0s 7ms/step - loss: 0.0337 - accuracy: 0.9908 - val_loss: 0.5054 - val_accuracy: 0.9016\n",
            "Epoch 27/40\n",
            "16/16 [==============================] - 0s 7ms/step - loss: 0.0220 - accuracy: 0.9949 - val_loss: 0.5135 - val_accuracy: 0.8975\n",
            "Epoch 28/40\n",
            "16/16 [==============================] - 0s 7ms/step - loss: 0.0206 - accuracy: 0.9938 - val_loss: 0.5099 - val_accuracy: 0.8975\n",
            "Epoch 29/40\n",
            "16/16 [==============================] - 0s 7ms/step - loss: 0.0225 - accuracy: 0.9949 - val_loss: 0.5208 - val_accuracy: 0.8975\n",
            "Epoch 30/40\n",
            "16/16 [==============================] - 0s 7ms/step - loss: 0.0223 - accuracy: 0.9959 - val_loss: 0.5356 - val_accuracy: 0.9016\n",
            "Epoch 31/40\n",
            "16/16 [==============================] - 0s 7ms/step - loss: 0.0166 - accuracy: 0.9979 - val_loss: 0.5369 - val_accuracy: 0.8975\n",
            "Epoch 32/40\n",
            "16/16 [==============================] - 0s 7ms/step - loss: 0.0204 - accuracy: 0.9969 - val_loss: 0.5626 - val_accuracy: 0.9016\n",
            "Epoch 33/40\n",
            "16/16 [==============================] - 0s 7ms/step - loss: 0.0234 - accuracy: 0.9938 - val_loss: 0.5639 - val_accuracy: 0.8975\n",
            "Epoch 34/40\n",
            "16/16 [==============================] - 0s 7ms/step - loss: 0.0132 - accuracy: 0.9979 - val_loss: 0.5828 - val_accuracy: 0.8975\n",
            "Epoch 35/40\n",
            "16/16 [==============================] - 0s 8ms/step - loss: 0.0202 - accuracy: 0.9949 - val_loss: 0.5960 - val_accuracy: 0.8934\n",
            "Epoch 36/40\n",
            "16/16 [==============================] - 0s 7ms/step - loss: 0.0316 - accuracy: 0.9938 - val_loss: 0.5752 - val_accuracy: 0.9057\n",
            "Epoch 37/40\n",
            "16/16 [==============================] - 0s 7ms/step - loss: 0.0273 - accuracy: 0.9949 - val_loss: 0.5932 - val_accuracy: 0.8975\n",
            "Epoch 38/40\n",
            "16/16 [==============================] - 0s 7ms/step - loss: 0.0187 - accuracy: 0.9969 - val_loss: 0.5783 - val_accuracy: 0.8934\n",
            "Epoch 39/40\n",
            "16/16 [==============================] - 0s 7ms/step - loss: 0.0208 - accuracy: 0.9959 - val_loss: 0.5928 - val_accuracy: 0.8934\n",
            "Epoch 40/40\n",
            "16/16 [==============================] - 0s 7ms/step - loss: 0.0148 - accuracy: 0.9969 - val_loss: 0.6025 - val_accuracy: 0.8934\n"
          ],
          "name": "stdout"
        },
        {
          "output_type": "execute_result",
          "data": {
            "text/plain": [
              "<tensorflow.python.keras.callbacks.History at 0x7faff2a4d320>"
            ]
          },
          "metadata": {
            "tags": []
          },
          "execution_count": 28
        }
      ]
    },
    {
      "cell_type": "code",
      "metadata": {
        "colab": {
          "base_uri": "https://localhost:8080/"
        },
        "id": "RxhG99BiNUj8",
        "outputId": "a34543ba-8715-4954-9db0-12679cda8d7a"
      },
      "source": [
        "y_predict = model.predict(X_test)\n",
        "y_pred = np.argmax(y_predict, axis=1)\n",
        "y_true = np.argmax(test_y, axis=1)\n",
        "\n",
        "metrics.f1_score(y_true, y_pred)"
      ],
      "execution_count": 29,
      "outputs": [
        {
          "output_type": "execute_result",
          "data": {
            "text/plain": [
              "0.8859649122807017"
            ]
          },
          "metadata": {
            "tags": []
          },
          "execution_count": 29
        }
      ]
    }
  ]
}