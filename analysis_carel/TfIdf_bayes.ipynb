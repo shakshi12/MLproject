{
  "nbformat": 4,
  "nbformat_minor": 0,
  "metadata": {
    "colab": {
      "name": "TfIdf-bayes.ipynb",
      "provenance": [],
      "collapsed_sections": []
    },
    "kernelspec": {
      "name": "python3",
      "display_name": "Python 3"
    }
  },
  "cells": [
    {
      "cell_type": "code",
      "metadata": {
        "id": "ZQOwfkBQWrPV"
      },
      "source": [
        "from keras.utils import to_categorical\n",
        "from keras.models import Sequential, Model\n",
        "from keras.layers import Dense, Dropout, LayerNormalization, BatchNormalization\n",
        "import tensorflow as tf\n",
        "\n",
        "from sklearn.preprocessing import LabelEncoder\n",
        "from sklearn.feature_extraction.text import TfidfVectorizer\n",
        "import numpy as np\n",
        "import pandas as pd\n",
        "from sklearn.decomposition import PCA\n",
        "from sklearn import preprocessing\n",
        "from sklearn.model_selection import train_test_split\n",
        "from sklearn import metrics\n",
        "from sklearn.naive_bayes import MultinomialNB\n"
      ],
      "execution_count": 7,
      "outputs": []
    },
    {
      "cell_type": "code",
      "metadata": {
        "colab": {
          "base_uri": "https://localhost:8080/"
        },
        "id": "p-sSA_HlW1QI",
        "outputId": "09e1cf05-9dc0-4378-cd2c-9302cc5a2d2d"
      },
      "source": [
        "import os\n",
        "from google.colab import drive\n",
        "drive.mount('/content/drive')\n",
        "os.chdir(\"/content/drive//My Drive/Andmeteadus/Masinõpe/4N/\")"
      ],
      "execution_count": 2,
      "outputs": [
        {
          "output_type": "stream",
          "text": [
            "Mounted at /content/drive\n"
          ],
          "name": "stdout"
        }
      ]
    },
    {
      "cell_type": "code",
      "metadata": {
        "colab": {
          "base_uri": "https://localhost:8080/"
        },
        "id": "2334RkfxW4KD",
        "outputId": "ac3b6c0c-07e0-4267-9f55-bb81bc3a7009"
      },
      "source": [
        "data = pd.read_csv(\"cleaned_with_title_am_nam.csv\", sep=\"\\t\")\n",
        "print(data.shape)\n",
        "data.dropna()\n",
        "train_, test_ = train_test_split(data, train_size=0.8, test_size=0.2, shuffle=True)\n",
        "def preprocess(data):\n",
        "  new_articles = []\n",
        "  for i in data.iterrows():\n",
        "    if type(i[1][\"title\"]) == float or type(i[1][\"article\"]) == float:\n",
        "      new_articles.append(\"\")\n",
        "      continue\n",
        "\n",
        "    new_articles.append(i[1][\"title\"]+\" \"+i[1][\"article\"])\n",
        "  data[\"data\"] = np.array(new_articles)\n",
        "  return data\n",
        "#data.head()"
      ],
      "execution_count": 3,
      "outputs": [
        {
          "output_type": "stream",
          "text": [
            "(1218, 4)\n"
          ],
          "name": "stdout"
        }
      ]
    },
    {
      "cell_type": "code",
      "metadata": {
        "colab": {
          "base_uri": "https://localhost:8080/"
        },
        "id": "trDKbv8nXi_O",
        "outputId": "831cdc4b-c013-4606-e619-b5ab539013ac"
      },
      "source": [
        "le = LabelEncoder()\n",
        "train = preprocess(train_)\n",
        "train_X = train[\"data\"]\n",
        "train_y = train[\"label\"]\n",
        "\n",
        "test = preprocess(test_)\n",
        "test_X = test[\"data\"]\n",
        "test_y = test[\"label\"]\n"
      ],
      "execution_count": 4,
      "outputs": [
        {
          "output_type": "stream",
          "text": [
            "/usr/local/lib/python3.6/dist-packages/ipykernel_launcher.py:13: SettingWithCopyWarning: \n",
            "A value is trying to be set on a copy of a slice from a DataFrame.\n",
            "Try using .loc[row_indexer,col_indexer] = value instead\n",
            "\n",
            "See the caveats in the documentation: https://pandas.pydata.org/pandas-docs/stable/user_guide/indexing.html#returning-a-view-versus-a-copy\n",
            "  del sys.path[0]\n"
          ],
          "name": "stderr"
        }
      ]
    },
    {
      "cell_type": "code",
      "metadata": {
        "colab": {
          "base_uri": "https://localhost:8080/"
        },
        "id": "1idj-GBWXwdL",
        "outputId": "66826a29-8d3a-4333-dee7-b1e3728478c2"
      },
      "source": [
        "test_y.shape, test_X.shape, train_X.shape, train_y.shape"
      ],
      "execution_count": 5,
      "outputs": [
        {
          "output_type": "execute_result",
          "data": {
            "text/plain": [
              "((244,), (244,), (974,), (974,))"
            ]
          },
          "metadata": {
            "tags": []
          },
          "execution_count": 5
        }
      ]
    },
    {
      "cell_type": "code",
      "metadata": {
        "colab": {
          "base_uri": "https://localhost:8080/"
        },
        "id": "eI7qDYUCXvse",
        "outputId": "a8d3d6bd-b05b-4e6b-a6a2-b057aa633d1f"
      },
      "source": [
        "tfidf_vect = TfidfVectorizer()\n",
        "X_train_tfidf = tfidf_vect.fit_transform(train_X)\n",
        "X_test_tfidf = tfidf_vect.transform(test_X)\n",
        "\n",
        "multinomialnb = MultinomialNB().fit(X_train_tfidf, train_y)\n",
        "predicted = multinomialnb.predict(X_test_tfidf)\n",
        "\n",
        "le.fit(train_y)\n",
        "test_le = le.transform(test_y)\n",
        "predicted_le = le.transform(predicted)\n",
        "metrics.f1_score(test_le, predicted_le)\n"
      ],
      "execution_count": 17,
      "outputs": [
        {
          "output_type": "execute_result",
          "data": {
            "text/plain": [
              "0.7976190476190478"
            ]
          },
          "metadata": {
            "tags": []
          },
          "execution_count": 17
        }
      ]
    }
  ]
}