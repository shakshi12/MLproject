{
  "nbformat": 4,
  "nbformat_minor": 0,
  "metadata": {
    "colab": {
      "name": "BERT.ipynb",
      "provenance": [],
      "collapsed_sections": []
    },
    "kernelspec": {
      "name": "python3",
      "display_name": "Python 3"
    },
    "widgets": {
      "application/vnd.jupyter.widget-state+json": {
        "dbc0c3246f714dca85d70d6e5020701a": {
          "model_module": "@jupyter-widgets/controls",
          "model_name": "HBoxModel",
          "state": {
            "_view_name": "HBoxView",
            "_dom_classes": [],
            "_model_name": "HBoxModel",
            "_view_module": "@jupyter-widgets/controls",
            "_model_module_version": "1.5.0",
            "_view_count": null,
            "_view_module_version": "1.5.0",
            "box_style": "",
            "layout": "IPY_MODEL_de557da5740f4678a3aadc6ff7f6ddc8",
            "_model_module": "@jupyter-widgets/controls",
            "children": [
              "IPY_MODEL_3a453def14b148d5991f7abb92b31915",
              "IPY_MODEL_d52d805894ce428e9d6c426716c61320"
            ]
          }
        },
        "de557da5740f4678a3aadc6ff7f6ddc8": {
          "model_module": "@jupyter-widgets/base",
          "model_name": "LayoutModel",
          "state": {
            "_view_name": "LayoutView",
            "grid_template_rows": null,
            "right": null,
            "justify_content": null,
            "_view_module": "@jupyter-widgets/base",
            "overflow": null,
            "_model_module_version": "1.2.0",
            "_view_count": null,
            "flex_flow": null,
            "width": null,
            "min_width": null,
            "border": null,
            "align_items": null,
            "bottom": null,
            "_model_module": "@jupyter-widgets/base",
            "top": null,
            "grid_column": null,
            "overflow_y": null,
            "overflow_x": null,
            "grid_auto_flow": null,
            "grid_area": null,
            "grid_template_columns": null,
            "flex": null,
            "_model_name": "LayoutModel",
            "justify_items": null,
            "grid_row": null,
            "max_height": null,
            "align_content": null,
            "visibility": null,
            "align_self": null,
            "height": null,
            "min_height": null,
            "padding": null,
            "grid_auto_rows": null,
            "grid_gap": null,
            "max_width": null,
            "order": null,
            "_view_module_version": "1.2.0",
            "grid_template_areas": null,
            "object_position": null,
            "object_fit": null,
            "grid_auto_columns": null,
            "margin": null,
            "display": null,
            "left": null
          }
        },
        "3a453def14b148d5991f7abb92b31915": {
          "model_module": "@jupyter-widgets/controls",
          "model_name": "FloatProgressModel",
          "state": {
            "_view_name": "ProgressView",
            "style": "IPY_MODEL_9872357b5d464609af37287a8376c52d",
            "_dom_classes": [],
            "description": "Downloading: 100%",
            "_model_name": "FloatProgressModel",
            "bar_style": "success",
            "max": 363423424,
            "_view_module": "@jupyter-widgets/controls",
            "_model_module_version": "1.5.0",
            "value": 363423424,
            "_view_count": null,
            "_view_module_version": "1.5.0",
            "orientation": "horizontal",
            "min": 0,
            "description_tooltip": null,
            "_model_module": "@jupyter-widgets/controls",
            "layout": "IPY_MODEL_d35183752c774ecfa3052af48be817aa"
          }
        },
        "d52d805894ce428e9d6c426716c61320": {
          "model_module": "@jupyter-widgets/controls",
          "model_name": "HTMLModel",
          "state": {
            "_view_name": "HTMLView",
            "style": "IPY_MODEL_9eef1747a98548069d44adfa69052a1b",
            "_dom_classes": [],
            "description": "",
            "_model_name": "HTMLModel",
            "placeholder": "​",
            "_view_module": "@jupyter-widgets/controls",
            "_model_module_version": "1.5.0",
            "value": " 363M/363M [00:05&lt;00:00, 60.6MB/s]",
            "_view_count": null,
            "_view_module_version": "1.5.0",
            "description_tooltip": null,
            "_model_module": "@jupyter-widgets/controls",
            "layout": "IPY_MODEL_602f2586ccb14df78d8c15887bd65e97"
          }
        },
        "9872357b5d464609af37287a8376c52d": {
          "model_module": "@jupyter-widgets/controls",
          "model_name": "ProgressStyleModel",
          "state": {
            "_view_name": "StyleView",
            "_model_name": "ProgressStyleModel",
            "description_width": "initial",
            "_view_module": "@jupyter-widgets/base",
            "_model_module_version": "1.5.0",
            "_view_count": null,
            "_view_module_version": "1.2.0",
            "bar_color": null,
            "_model_module": "@jupyter-widgets/controls"
          }
        },
        "d35183752c774ecfa3052af48be817aa": {
          "model_module": "@jupyter-widgets/base",
          "model_name": "LayoutModel",
          "state": {
            "_view_name": "LayoutView",
            "grid_template_rows": null,
            "right": null,
            "justify_content": null,
            "_view_module": "@jupyter-widgets/base",
            "overflow": null,
            "_model_module_version": "1.2.0",
            "_view_count": null,
            "flex_flow": null,
            "width": null,
            "min_width": null,
            "border": null,
            "align_items": null,
            "bottom": null,
            "_model_module": "@jupyter-widgets/base",
            "top": null,
            "grid_column": null,
            "overflow_y": null,
            "overflow_x": null,
            "grid_auto_flow": null,
            "grid_area": null,
            "grid_template_columns": null,
            "flex": null,
            "_model_name": "LayoutModel",
            "justify_items": null,
            "grid_row": null,
            "max_height": null,
            "align_content": null,
            "visibility": null,
            "align_self": null,
            "height": null,
            "min_height": null,
            "padding": null,
            "grid_auto_rows": null,
            "grid_gap": null,
            "max_width": null,
            "order": null,
            "_view_module_version": "1.2.0",
            "grid_template_areas": null,
            "object_position": null,
            "object_fit": null,
            "grid_auto_columns": null,
            "margin": null,
            "display": null,
            "left": null
          }
        },
        "9eef1747a98548069d44adfa69052a1b": {
          "model_module": "@jupyter-widgets/controls",
          "model_name": "DescriptionStyleModel",
          "state": {
            "_view_name": "StyleView",
            "_model_name": "DescriptionStyleModel",
            "description_width": "",
            "_view_module": "@jupyter-widgets/base",
            "_model_module_version": "1.5.0",
            "_view_count": null,
            "_view_module_version": "1.2.0",
            "_model_module": "@jupyter-widgets/controls"
          }
        },
        "602f2586ccb14df78d8c15887bd65e97": {
          "model_module": "@jupyter-widgets/base",
          "model_name": "LayoutModel",
          "state": {
            "_view_name": "LayoutView",
            "grid_template_rows": null,
            "right": null,
            "justify_content": null,
            "_view_module": "@jupyter-widgets/base",
            "overflow": null,
            "_model_module_version": "1.2.0",
            "_view_count": null,
            "flex_flow": null,
            "width": null,
            "min_width": null,
            "border": null,
            "align_items": null,
            "bottom": null,
            "_model_module": "@jupyter-widgets/base",
            "top": null,
            "grid_column": null,
            "overflow_y": null,
            "overflow_x": null,
            "grid_auto_flow": null,
            "grid_area": null,
            "grid_template_columns": null,
            "flex": null,
            "_model_name": "LayoutModel",
            "justify_items": null,
            "grid_row": null,
            "max_height": null,
            "align_content": null,
            "visibility": null,
            "align_self": null,
            "height": null,
            "min_height": null,
            "padding": null,
            "grid_auto_rows": null,
            "grid_gap": null,
            "max_width": null,
            "order": null,
            "_view_module_version": "1.2.0",
            "grid_template_areas": null,
            "object_position": null,
            "object_fit": null,
            "grid_auto_columns": null,
            "margin": null,
            "display": null,
            "left": null
          }
        }
      }
    }
  },
  "cells": [
    {
      "cell_type": "code",
      "metadata": {
        "id": "dCQ1BGYKVQXb"
      },
      "source": [
        "import pandas as pd\n",
        "import numpy as np\n",
        "from keras.preprocessing.text import Tokenizer\n",
        "from keras.utils import to_categorical\n",
        "from keras.models import Sequential\n",
        "from keras.layers import LSTM, Bidirectional, Input,GlobalMaxPool1D, Dense, Dropout\n",
        "from sklearn.model_selection import train_test_split\n",
        "from sklearn.preprocessing import LabelEncoder\n",
        "import tensorflow as tf"
      ],
      "execution_count": null,
      "outputs": []
    },
    {
      "cell_type": "code",
      "metadata": {
        "colab": {
          "base_uri": "https://localhost:8080/"
        },
        "id": "mYe8fMphVvPY",
        "outputId": "f50ee0e3-a49f-40f6-e736-fe3e386831cf"
      },
      "source": [
        "import os\n",
        "from google.colab import drive\n",
        "drive.mount('/content/drive')\n",
        "os.chdir(\"/content/drive//My Drive/Andmeteadus/Masinõpe/4N/\")"
      ],
      "execution_count": null,
      "outputs": [
        {
          "output_type": "stream",
          "text": [
            "Mounted at /content/drive\n"
          ],
          "name": "stdout"
        }
      ]
    },
    {
      "cell_type": "code",
      "metadata": {
        "id": "AvJzedCFVzmZ"
      },
      "source": [
        "data_path = \"cleaned_am_nam_articles.csv\"\n",
        "data = pd.read_csv(data_path)\n",
        "data = data.dropna()\n",
        "train, test = train_test_split(data, train_size=0.8, test_size=0.2, shuffle=True)\n",
        "train_articles = train[\"article\"]\n",
        "train_labels = train[\"label\"]\n",
        "test_articles = test[\"article\"]\n",
        "test_labels = test[\"label\"]\n",
        "\n",
        "le = LabelEncoder()\n",
        "le.fit(test_labels)\n",
        "y_train = le.transform(train_labels)\n",
        "y_test = le.transform(test_labels)\n",
        "y_train_vec = to_categorical(y_train)\n",
        "y_test_vec = to_categorical(y_test)"
      ],
      "execution_count": null,
      "outputs": []
    },
    {
      "cell_type": "code",
      "metadata": {
        "colab": {
          "base_uri": "https://localhost:8080/",
          "height": 173,
          "referenced_widgets": [
            "dbc0c3246f714dca85d70d6e5020701a",
            "de557da5740f4678a3aadc6ff7f6ddc8",
            "3a453def14b148d5991f7abb92b31915",
            "d52d805894ce428e9d6c426716c61320",
            "9872357b5d464609af37287a8376c52d",
            "d35183752c774ecfa3052af48be817aa",
            "9eef1747a98548069d44adfa69052a1b",
            "602f2586ccb14df78d8c15887bd65e97"
          ]
        },
        "id": "LINpTSevX4A-",
        "outputId": "2dbb2d75-dd98-466d-cef2-1cf7b8e11181"
      },
      "source": [
        "from transformers import TFDistilBertForSequenceClassification, DistilBertConfig, DistilBertTokenizer, TFDistilBertModel\n",
        "\n",
        "model_name = 'distilbert-base-uncased'\n",
        "\n",
        "config = DistilBertConfig(num_labels=2)\n",
        "id2label = {0:'nam', 1:'am'}\n",
        "config.id2label = id2label\n",
        "config.output_hidden_states = False\n",
        "# Mudel ise\n",
        "transformer_model = TFDistilBertModel.from_pretrained(model_name, config = config)"
      ],
      "execution_count": null,
      "outputs": [
        {
          "output_type": "display_data",
          "data": {
            "application/vnd.jupyter.widget-view+json": {
              "model_id": "dbc0c3246f714dca85d70d6e5020701a",
              "version_minor": 0,
              "version_major": 2
            },
            "text/plain": [
              "HBox(children=(FloatProgress(value=0.0, description='Downloading', max=363423424.0, style=ProgressStyle(descri…"
            ]
          },
          "metadata": {
            "tags": []
          }
        },
        {
          "output_type": "stream",
          "text": [
            "\n"
          ],
          "name": "stdout"
        },
        {
          "output_type": "stream",
          "text": [
            "Some layers from the model checkpoint at distilbert-base-uncased were not used when initializing TFDistilBertModel: ['vocab_transform', 'vocab_layer_norm', 'activation_13', 'vocab_projector']\n",
            "- This IS expected if you are initializing TFDistilBertModel from the checkpoint of a model trained on another task or with another architecture (e.g. initializing a BertForSequenceClassification model from a BertForPreTraining model).\n",
            "- This IS NOT expected if you are initializing TFDistilBertModel from the checkpoint of a model that you expect to be exactly identical (initializing a BertForSequenceClassification model from a BertForSequenceClassification model).\n",
            "All the layers of TFDistilBertModel were initialized from the model checkpoint at distilbert-base-uncased.\n",
            "If your task is similar to the task the model of the checkpoint was trained on, you can already use TFDistilBertModel for predictions without further training.\n"
          ],
          "name": "stderr"
        }
      ]
    },
    {
      "cell_type": "code",
      "metadata": {
        "id": "eeE0cdihYLa-"
      },
      "source": [
        "max_length = 128\n",
        "tokenizer = DistilBertTokenizer.from_pretrained(model_name, do_lower_case=True, add_special_tokens=True, max_length=max_length, pad_to_max_length=True)\n",
        "\n",
        "X_train = list(np.array(train_articles))\n",
        "X_test = list(np.array(test_articles))\n",
        "# Sisendiks on tokeniseerijalt saadud sõned,\n",
        "# aga võib anda ka maski: 1, kui tegu on sisulise sõnega ja 0, kui tegu on puhvrinulliga\n",
        "X_train_bert = tokenizer(\n",
        "    text=X_train,\n",
        "    add_special_tokens=True, #[CLS] jms\n",
        "    max_length=max_length,\n",
        "    truncation=True,\n",
        "    padding=True, \n",
        "    return_tensors='tf',\n",
        "    return_token_type_ids = False,\n",
        "    return_attention_mask = True)\n",
        "X_test_bert = tokenizer(\n",
        "    text=X_test,\n",
        "    add_special_tokens=True,\n",
        "    max_length=max_length,\n",
        "    truncation=True,\n",
        "    padding=True, \n",
        "    return_tensors='tf',\n",
        "    return_token_type_ids = False,\n",
        "    return_attention_mask = True)"
      ],
      "execution_count": null,
      "outputs": []
    },
    {
      "cell_type": "code",
      "metadata": {
        "colab": {
          "base_uri": "https://localhost:8080/"
        },
        "id": "i8CPpDeLYYXk",
        "outputId": "be77a1e3-38a6-4545-fb99-3039995d5cb1"
      },
      "source": [
        "# Sisu näited:\n",
        "print(\"Sisendiks on:\",[x for x in X_train_bert])\n",
        "print(X_train_bert['input_ids'][0])\n",
        "print(X_train_bert['attention_mask'][0])"
      ],
      "execution_count": null,
      "outputs": [
        {
          "output_type": "stream",
          "text": [
            "Sisendiks on: ['input_ids', 'attention_mask']\n",
            "tf.Tensor(\n",
            "[  101  8273 23153  1010  3983  2255  1010 12609  1006 11333  2213  1007\n",
            "  1011  1011  1996  3757  1997  3425  2038  2170  2588  2375  9786  2000\n",
            "  2202  2035  4072  5761  2000  5676  3424  1011  2769 28289  1998  3424\n",
            "  1011  9452 12135 14422  2024  9768  1012  2375  9786  2020  2036  2356\n",
            "  2000  2202  1996  4072  3423  5761  2114 19591  2104  2976 10037  2322\n",
            "  1997  2760  1999  7189  2000  2769 28289  1010  2049  3237  7040  1010\n",
            "  1998  7882 18645  6567  2004  2112  1997  1996 17641  1005  1055  4073\n",
            "  2000  4769  1996 10831  3378  2007  3361  6997  1012  1996  3757  7902\n",
            "  2098  1996  5197  1997  2375  9786  1005  2535  1999  4337  2075  2769\n",
            " 28289  1010  2004  2092  2004  1996  2342  2005  9559  2000  7868  2037\n",
            "  2535  1999  3554  2023  4126  1998 12151   102], shape=(128,), dtype=int32)\n",
            "tf.Tensor(\n",
            "[1 1 1 1 1 1 1 1 1 1 1 1 1 1 1 1 1 1 1 1 1 1 1 1 1 1 1 1 1 1 1 1 1 1 1 1 1\n",
            " 1 1 1 1 1 1 1 1 1 1 1 1 1 1 1 1 1 1 1 1 1 1 1 1 1 1 1 1 1 1 1 1 1 1 1 1 1\n",
            " 1 1 1 1 1 1 1 1 1 1 1 1 1 1 1 1 1 1 1 1 1 1 1 1 1 1 1 1 1 1 1 1 1 1 1 1 1\n",
            " 1 1 1 1 1 1 1 1 1 1 1 1 1 1 1 1 1], shape=(128,), dtype=int32)\n"
          ],
          "name": "stdout"
        }
      ]
    },
    {
      "cell_type": "code",
      "metadata": {
        "colab": {
          "base_uri": "https://localhost:8080/"
        },
        "id": "x81znjj4ZFYA",
        "outputId": "4c7932cc-5520-47bf-8aee-c802f9fefc93"
      },
      "source": [
        "# Loome uue, treenitava mudeli\n",
        "model = Sequential()\n",
        "# Kõigepealt kaks sisendit tokeniseerijalt\n",
        "model.add(Input(shape=(max_length,),dtype='int32'))\n",
        "# Siis DistilBerti klassifitseerija\n",
        "model.add(transformer_model)\n",
        "# Lisaks mõned kihid kokkupanekuks\n",
        "# LSTM, vaatab nii taha kui ette\n",
        "model.add(Bidirectional(tf.keras.layers.LSTM(50, return_sequences=True, dropout=0.1, recurrent_dropout=0.1)))\n",
        "# Lükkame 1 dimensiooniks kokku\n",
        "model.add(GlobalMaxPool1D())\n",
        "model.add(Dense(50, activation='relu'))\n",
        "model.add(Dropout(0.2))\n",
        "# Lõpuks 4 klassi\n",
        "model.add(Dense(2, activation='softmax'))\n",
        "\n",
        "# Alguses olevaid BERTi kaale me muuta ei taha, need on suurtel andmetel õpitud\n",
        "for layer in model.layers[:3]:\n",
        "  layer.trainable = False\n",
        "\n",
        "model.compile(loss='categorical_crossentropy',\n",
        "              optimizer=\"adam\",\n",
        "              metrics=['acc'])\n",
        "model.summary()"
      ],
      "execution_count": null,
      "outputs": [
        {
          "output_type": "stream",
          "text": [
            "Model: \"sequential_2\"\n",
            "_________________________________________________________________\n",
            "Layer (type)                 Output Shape              Param #   \n",
            "=================================================================\n",
            "tf_distil_bert_model (TFDist TFBaseModelOutput(last_hi 66362880  \n",
            "_________________________________________________________________\n",
            "bidirectional_2 (Bidirection (None, 128, 100)          327600    \n",
            "_________________________________________________________________\n",
            "global_max_pooling1d_2 (Glob (None, 100)               0         \n",
            "_________________________________________________________________\n",
            "dense_3 (Dense)              (None, 50)                5050      \n",
            "_________________________________________________________________\n",
            "dropout_20 (Dropout)         (None, 50)                0         \n",
            "_________________________________________________________________\n",
            "dense_4 (Dense)              (None, 2)                 102       \n",
            "=================================================================\n",
            "Total params: 66,695,632\n",
            "Trainable params: 5,152\n",
            "Non-trainable params: 66,690,480\n",
            "_________________________________________________________________\n"
          ],
          "name": "stdout"
        }
      ]
    },
    {
      "cell_type": "code",
      "metadata": {
        "colab": {
          "base_uri": "https://localhost:8080/"
        },
        "id": "IuBAKA9Je6ep",
        "outputId": "968a06fb-a572-44e8-885f-346345a338dd"
      },
      "source": [
        "X_train_bert['input_ids'].shape, X_test_bert['input_ids'].shape"
      ],
      "execution_count": null,
      "outputs": [
        {
          "output_type": "execute_result",
          "data": {
            "text/plain": [
              "(TensorShape([867, 128]), TensorShape([217, 128]))"
            ]
          },
          "metadata": {
            "tags": []
          },
          "execution_count": 23
        }
      ]
    },
    {
      "cell_type": "code",
      "metadata": {
        "colab": {
          "base_uri": "https://localhost:8080/"
        },
        "id": "gXzvbay-ZsVK",
        "outputId": "d7058ccc-9f1d-4b5c-8d8d-fed9fe42cc04"
      },
      "source": [
        "model.fit([X_train_bert['input_ids'],X_train_bert['attention_mask']],y_train_vec,batch_size=128,epochs=40,\n",
        "        validation_data=([X_test_bert['input_Vids'],X_test_bert['attention_mask']],y_test_vec))"
      ],
      "execution_count": null,
      "outputs": [
        {
          "output_type": "stream",
          "text": [
            "Epoch 1/40\n",
            "7/7 [==============================] - 216s 31s/step - loss: 0.6971 - acc: 0.5375 - val_loss: 0.7038 - val_acc: 0.5392\n",
            "Epoch 2/40\n",
            "7/7 [==============================] - 217s 31s/step - loss: 0.7033 - acc: 0.5467 - val_loss: 0.7038 - val_acc: 0.5392\n",
            "Epoch 3/40\n",
            "7/7 [==============================] - 215s 31s/step - loss: 0.6944 - acc: 0.5433 - val_loss: 0.6978 - val_acc: 0.5438\n",
            "Epoch 4/40\n",
            "7/7 [==============================] - 215s 31s/step - loss: 0.6839 - acc: 0.5559 - val_loss: 0.6986 - val_acc: 0.5346\n",
            "Epoch 5/40\n",
            "7/7 [==============================] - 218s 31s/step - loss: 0.6781 - acc: 0.5917 - val_loss: 0.7058 - val_acc: 0.5392\n",
            "Epoch 6/40\n",
            "7/7 [==============================] - 215s 31s/step - loss: 0.6806 - acc: 0.5813 - val_loss: 0.6998 - val_acc: 0.5392\n",
            "Epoch 7/40\n",
            "7/7 [==============================] - 218s 31s/step - loss: 0.6861 - acc: 0.5606 - val_loss: 0.6986 - val_acc: 0.5392\n",
            "Epoch 8/40\n",
            "7/7 [==============================] - 215s 31s/step - loss: 0.6808 - acc: 0.5721 - val_loss: 0.6982 - val_acc: 0.5392\n",
            "Epoch 9/40\n",
            "7/7 [==============================] - 215s 31s/step - loss: 0.6785 - acc: 0.5755 - val_loss: 0.6972 - val_acc: 0.5392\n",
            "Epoch 10/40\n",
            "7/7 [==============================] - 218s 31s/step - loss: 0.6813 - acc: 0.5767 - val_loss: 0.6959 - val_acc: 0.5438\n",
            "Epoch 11/40\n",
            "7/7 [==============================] - 215s 31s/step - loss: 0.6777 - acc: 0.5825 - val_loss: 0.7000 - val_acc: 0.5392\n",
            "Epoch 12/40\n",
            "7/7 [==============================] - 219s 31s/step - loss: 0.6748 - acc: 0.5882 - val_loss: 0.6984 - val_acc: 0.5392\n",
            "Epoch 13/40\n",
            "7/7 [==============================] - 216s 31s/step - loss: 0.6767 - acc: 0.5790 - val_loss: 0.6934 - val_acc: 0.5346\n",
            "Epoch 14/40\n",
            "7/7 [==============================] - 215s 31s/step - loss: 0.6783 - acc: 0.5859 - val_loss: 0.6953 - val_acc: 0.5392\n",
            "Epoch 15/40\n",
            "7/7 [==============================] - 221s 32s/step - loss: 0.6725 - acc: 0.5859 - val_loss: 0.7015 - val_acc: 0.5392\n",
            "Epoch 16/40\n",
            "7/7 [==============================] - 216s 31s/step - loss: 0.6753 - acc: 0.5871 - val_loss: 0.6973 - val_acc: 0.5438\n",
            "Epoch 17/40\n",
            "7/7 [==============================] - 219s 31s/step - loss: 0.6722 - acc: 0.5940 - val_loss: 0.6943 - val_acc: 0.5392\n",
            "Epoch 18/40\n",
            "7/7 [==============================] - 214s 31s/step - loss: 0.6791 - acc: 0.5848 - val_loss: 0.6971 - val_acc: 0.5392\n",
            "Epoch 19/40\n",
            "7/7 [==============================] - 214s 31s/step - loss: 0.6687 - acc: 0.5848 - val_loss: 0.6980 - val_acc: 0.5392\n",
            "Epoch 20/40\n",
            "7/7 [==============================] - 219s 31s/step - loss: 0.6745 - acc: 0.5871 - val_loss: 0.6965 - val_acc: 0.5346\n",
            "Epoch 21/40\n",
            "7/7 [==============================] - 215s 31s/step - loss: 0.6728 - acc: 0.5917 - val_loss: 0.6944 - val_acc: 0.5392\n",
            "Epoch 22/40\n",
            "7/7 [==============================] - 217s 31s/step - loss: 0.6726 - acc: 0.5802 - val_loss: 0.6957 - val_acc: 0.5392\n",
            "Epoch 23/40\n",
            "7/7 [==============================] - 214s 31s/step - loss: 0.6711 - acc: 0.5894 - val_loss: 0.6944 - val_acc: 0.5392\n",
            "Epoch 24/40\n",
            "7/7 [==============================] - 215s 31s/step - loss: 0.6700 - acc: 0.5905 - val_loss: 0.6982 - val_acc: 0.5392\n",
            "Epoch 25/40\n",
            "7/7 [==============================] - 219s 31s/step - loss: 0.6738 - acc: 0.5825 - val_loss: 0.6939 - val_acc: 0.5438\n",
            "Epoch 26/40\n",
            "7/7 [==============================] - 215s 31s/step - loss: 0.6700 - acc: 0.5848 - val_loss: 0.6943 - val_acc: 0.5392\n",
            "Epoch 27/40\n",
            "7/7 [==============================] - 218s 31s/step - loss: 0.6691 - acc: 0.5975 - val_loss: 0.6949 - val_acc: 0.5392\n",
            "Epoch 28/40\n",
            "7/7 [==============================] - 215s 31s/step - loss: 0.6694 - acc: 0.5928 - val_loss: 0.7008 - val_acc: 0.5346\n",
            "Epoch 29/40\n",
            "7/7 [==============================] - 215s 31s/step - loss: 0.6725 - acc: 0.5848 - val_loss: 0.6902 - val_acc: 0.5484\n",
            "Epoch 30/40\n",
            "7/7 [==============================] - 219s 31s/step - loss: 0.6714 - acc: 0.5894 - val_loss: 0.6967 - val_acc: 0.5346\n",
            "Epoch 31/40\n",
            "7/7 [==============================] - 216s 31s/step - loss: 0.6680 - acc: 0.5940 - val_loss: 0.6945 - val_acc: 0.5438\n",
            "Epoch 32/40\n",
            "7/7 [==============================] - 218s 31s/step - loss: 0.6667 - acc: 0.6009 - val_loss: 0.6940 - val_acc: 0.5346\n",
            "Epoch 33/40\n",
            "7/7 [==============================] - 216s 31s/step - loss: 0.6684 - acc: 0.5928 - val_loss: 0.6941 - val_acc: 0.5438\n",
            "Epoch 34/40\n",
            "7/7 [==============================] - 216s 31s/step - loss: 0.6654 - acc: 0.5975 - val_loss: 0.6941 - val_acc: 0.5392\n",
            "Epoch 35/40\n",
            "7/7 [==============================] - 218s 31s/step - loss: 0.6662 - acc: 0.5998 - val_loss: 0.6940 - val_acc: 0.5392\n",
            "Epoch 36/40\n",
            "7/7 [==============================] - 215s 31s/step - loss: 0.6667 - acc: 0.5963 - val_loss: 0.6948 - val_acc: 0.5392\n",
            "Epoch 37/40\n",
            "7/7 [==============================] - 218s 31s/step - loss: 0.6680 - acc: 0.5975 - val_loss: 0.6952 - val_acc: 0.5576\n",
            "Epoch 38/40\n",
            "7/7 [==============================] - 217s 31s/step - loss: 0.6639 - acc: 0.6009 - val_loss: 0.6996 - val_acc: 0.5392\n",
            "Epoch 39/40\n",
            "7/7 [==============================] - 215s 31s/step - loss: 0.6622 - acc: 0.5859 - val_loss: 0.6977 - val_acc: 0.5576\n",
            "Epoch 40/40\n",
            "7/7 [==============================] - 215s 31s/step - loss: 0.6707 - acc: 0.5940 - val_loss: 0.6937 - val_acc: 0.5300\n"
          ],
          "name": "stdout"
        },
        {
          "output_type": "execute_result",
          "data": {
            "text/plain": [
              "<tensorflow.python.keras.callbacks.History at 0x7fcaa15e9e80>"
            ]
          },
          "metadata": {
            "tags": []
          },
          "execution_count": 24
        }
      ]
    }
  ]
}