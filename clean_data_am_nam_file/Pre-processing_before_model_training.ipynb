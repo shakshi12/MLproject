{
 "cells": [
  {
   "cell_type": "code",
   "execution_count": 1,
   "metadata": {},
   "outputs": [
    {
     "name": "stderr",
     "output_type": "stream",
     "text": [
      "<ipython-input-1-f8ec68d874e9>:4: FutureWarning: Passing a negative integer is deprecated in version 1.0 and will not be supported in future version. Instead, use None to not limit the column width.\n",
      "  pd.set_option('display.max_colwidth', -1)\n"
     ]
    }
   ],
   "source": [
    "import numpy as np\n",
    "import pandas as pd\n",
    "# to display full text\n",
    "pd.set_option('display.max_colwidth', -1)"
   ]
  },
  {
   "cell_type": "markdown",
   "metadata": {},
   "source": [
    "## Load AM articles"
   ]
  },
  {
   "cell_type": "code",
   "execution_count": null,
   "metadata": {},
   "outputs": [],
   "source": [
    "am = pd.read_csv(r'C:\\Users\\shakshi\\Documents\\transfer to hp\\ML\\adverse_media_training.csv\\adverse_media_training.csv', \n",
    "                encoding='latin1')"
   ]
  },
  {
   "cell_type": "code",
   "execution_count": 20,
   "metadata": {},
   "outputs": [
    {
     "data": {
      "text/plain": [
       "Index(['source', 'entity_name', 'entity_type', 'url', 'article',\n",
       "       'full_response', 'label', 'explanation', 'assessor', 'comment',\n",
       "       ...\n",
       "       'Unnamed: 5678', 'Unnamed: 5679', 'Unnamed: 5680', 'Unnamed: 5681',\n",
       "       'Unnamed: 5682', 'Unnamed: 5683', 'Unnamed: 5684', 'Unnamed: 5685',\n",
       "       'Unnamed: 5686', 'Unnamed: 5687'],\n",
       "      dtype='object', length=5688)"
      ]
     },
     "execution_count": 20,
     "metadata": {},
     "output_type": "execute_result"
    }
   ],
   "source": [
    "am.columns"
   ]
  },
  {
   "cell_type": "code",
   "execution_count": 21,
   "metadata": {},
   "outputs": [],
   "source": [
    "am1 = am[['article', 'label']]"
   ]
  },
  {
   "cell_type": "code",
   "execution_count": 26,
   "metadata": {},
   "outputs": [
    {
     "name": "stdout",
     "output_type": "stream",
     "text": [
      "<class 'pandas.core.frame.DataFrame'>\n",
      "RangeIndex: 2189 entries, 0 to 2188\n",
      "Data columns (total 2 columns):\n",
      " #   Column   Non-Null Count  Dtype \n",
      "---  ------   --------------  ----- \n",
      " 0   article  1448 non-null   object\n",
      " 1   label    1005 non-null   object\n",
      "dtypes: object(2)\n",
      "memory usage: 34.3+ KB\n"
     ]
    }
   ],
   "source": [
    "am1.info()"
   ]
  },
  {
   "cell_type": "code",
   "execution_count": 29,
   "metadata": {},
   "outputs": [],
   "source": [
    "am2 = am1.dropna(how='all')"
   ]
  },
  {
   "cell_type": "code",
   "execution_count": 30,
   "metadata": {},
   "outputs": [
    {
     "name": "stdout",
     "output_type": "stream",
     "text": [
      "<class 'pandas.core.frame.DataFrame'>\n",
      "Int64Index: 1448 entries, 0 to 2188\n",
      "Data columns (total 2 columns):\n",
      " #   Column   Non-Null Count  Dtype \n",
      "---  ------   --------------  ----- \n",
      " 0   article  1448 non-null   object\n",
      " 1   label    1005 non-null   object\n",
      "dtypes: object(2)\n",
      "memory usage: 33.9+ KB\n"
     ]
    }
   ],
   "source": [
    "am2.info()"
   ]
  },
  {
   "cell_type": "code",
   "execution_count": 32,
   "metadata": {},
   "outputs": [],
   "source": [
    "am2.reset_index(drop=True, inplace = True)"
   ]
  },
  {
   "cell_type": "code",
   "execution_count": 33,
   "metadata": {},
   "outputs": [
    {
     "name": "stdout",
     "output_type": "stream",
     "text": [
      "<class 'pandas.core.frame.DataFrame'>\n",
      "RangeIndex: 1448 entries, 0 to 1447\n",
      "Data columns (total 2 columns):\n",
      " #   Column   Non-Null Count  Dtype \n",
      "---  ------   --------------  ----- \n",
      " 0   article  1448 non-null   object\n",
      " 1   label    1005 non-null   object\n",
      "dtypes: object(2)\n",
      "memory usage: 22.8+ KB\n"
     ]
    }
   ],
   "source": [
    "am2.info()"
   ]
  },
  {
   "cell_type": "markdown",
   "metadata": {},
   "source": [
    "## Load NAM articles"
   ]
  },
  {
   "cell_type": "code",
   "execution_count": null,
   "metadata": {},
   "outputs": [],
   "source": [
    "nam = pd.read_csv(r'C:\\Users\\shakshi\\Documents\\transfer to hp\\ML\\non_adverse_media_training.csv\\non_adverse_media_training.csv', \n",
    "                encoding='latin1')"
   ]
  },
  {
   "cell_type": "code",
   "execution_count": 36,
   "metadata": {},
   "outputs": [
    {
     "data": {
      "text/plain": [
       "Index(['source', 'entity_name', 'entity_type', 'url', 'article',\n",
       "       'full_response', 'label', 'explanation', 'assessor', 'comment',\n",
       "       ...\n",
       "       'Unnamed: 3197', 'Unnamed: 3198', 'Unnamed: 3199', 'Unnamed: 3200',\n",
       "       'Unnamed: 3201', 'Unnamed: 3202', 'Unnamed: 3203', 'Unnamed: 3204',\n",
       "       'Unnamed: 3205', 'Unnamed: 3206'],\n",
       "      dtype='object', length=3207)"
      ]
     },
     "execution_count": 36,
     "metadata": {},
     "output_type": "execute_result"
    }
   ],
   "source": [
    "nam.columns"
   ]
  },
  {
   "cell_type": "code",
   "execution_count": 37,
   "metadata": {},
   "outputs": [],
   "source": [
    "nam1 = nam[['article', 'label']]"
   ]
  },
  {
   "cell_type": "code",
   "execution_count": 38,
   "metadata": {},
   "outputs": [
    {
     "name": "stdout",
     "output_type": "stream",
     "text": [
      "<class 'pandas.core.frame.DataFrame'>\n",
      "RangeIndex: 2225 entries, 0 to 2224\n",
      "Data columns (total 2 columns):\n",
      " #   Column   Non-Null Count  Dtype \n",
      "---  ------   --------------  ----- \n",
      " 0   article  1038 non-null   object\n",
      " 1   label    678 non-null    object\n",
      "dtypes: object(2)\n",
      "memory usage: 34.9+ KB\n"
     ]
    }
   ],
   "source": [
    "nam1.info()"
   ]
  },
  {
   "cell_type": "code",
   "execution_count": 39,
   "metadata": {},
   "outputs": [],
   "source": [
    "nam2 = nam1.dropna(how='all')"
   ]
  },
  {
   "cell_type": "code",
   "execution_count": 40,
   "metadata": {},
   "outputs": [
    {
     "name": "stdout",
     "output_type": "stream",
     "text": [
      "<class 'pandas.core.frame.DataFrame'>\n",
      "Int64Index: 1042 entries, 0 to 2224\n",
      "Data columns (total 2 columns):\n",
      " #   Column   Non-Null Count  Dtype \n",
      "---  ------   --------------  ----- \n",
      " 0   article  1038 non-null   object\n",
      " 1   label    678 non-null    object\n",
      "dtypes: object(2)\n",
      "memory usage: 24.4+ KB\n"
     ]
    }
   ],
   "source": [
    "nam2.info()"
   ]
  },
  {
   "cell_type": "code",
   "execution_count": 41,
   "metadata": {},
   "outputs": [],
   "source": [
    "nam2.reset_index(drop=True, inplace = True)"
   ]
  },
  {
   "cell_type": "code",
   "execution_count": 42,
   "metadata": {},
   "outputs": [
    {
     "name": "stdout",
     "output_type": "stream",
     "text": [
      "<class 'pandas.core.frame.DataFrame'>\n",
      "RangeIndex: 1042 entries, 0 to 1041\n",
      "Data columns (total 2 columns):\n",
      " #   Column   Non-Null Count  Dtype \n",
      "---  ------   --------------  ----- \n",
      " 0   article  1038 non-null   object\n",
      " 1   label    678 non-null    object\n",
      "dtypes: object(2)\n",
      "memory usage: 16.4+ KB\n"
     ]
    }
   ],
   "source": [
    "nam2.info()"
   ]
  },
  {
   "cell_type": "code",
   "execution_count": 81,
   "metadata": {},
   "outputs": [],
   "source": [
    "nam3 = nam2[(nam2['label'] == 'random') | (nam2['label'] == 'am') | (nam2['label'] == 'nam')]"
   ]
  },
  {
   "cell_type": "code",
   "execution_count": 82,
   "metadata": {},
   "outputs": [],
   "source": [
    "nam3.reset_index(drop=True, inplace = True)"
   ]
  },
  {
   "cell_type": "code",
   "execution_count": 86,
   "metadata": {},
   "outputs": [
    {
     "name": "stderr",
     "output_type": "stream",
     "text": [
      "<ipython-input-86-4bddf8453fdd>:1: SettingWithCopyWarning: \n",
      "A value is trying to be set on a copy of a slice from a DataFrame.\n",
      "Try using .loc[row_indexer,col_indexer] = value instead\n",
      "\n",
      "See the caveats in the documentation: https://pandas.pydata.org/pandas-docs/stable/user_guide/indexing.html#returning-a-view-versus-a-copy\n",
      "  nam3['label'] = nam3['label'].apply(lambda x: 'nam' if x == 'random' else x)\n"
     ]
    }
   ],
   "source": [
    "nam3['label'] = nam3['label'].apply(lambda x: 'nam' if x == 'random' else x)"
   ]
  },
  {
   "cell_type": "code",
   "execution_count": 87,
   "metadata": {},
   "outputs": [
    {
     "data": {
      "text/plain": [
       "array(['nam', 'am'], dtype=object)"
      ]
     },
     "execution_count": 87,
     "metadata": {},
     "output_type": "execute_result"
    }
   ],
   "source": [
    "nam3['label'].unique()"
   ]
  },
  {
   "cell_type": "code",
   "execution_count": 71,
   "metadata": {},
   "outputs": [],
   "source": [
    "am3 = am2[(am2['label'] == 'random') | (am2['label'] == 'am') | (am2['label'] == 'nam')]"
   ]
  },
  {
   "cell_type": "code",
   "execution_count": 74,
   "metadata": {},
   "outputs": [],
   "source": [
    "am3.reset_index(drop=True, inplace = True)"
   ]
  },
  {
   "cell_type": "code",
   "execution_count": 75,
   "metadata": {},
   "outputs": [
    {
     "name": "stdout",
     "output_type": "stream",
     "text": [
      "<class 'pandas.core.frame.DataFrame'>\n",
      "RangeIndex: 643 entries, 0 to 642\n",
      "Data columns (total 2 columns):\n",
      " #   Column   Non-Null Count  Dtype \n",
      "---  ------   --------------  ----- \n",
      " 0   article  643 non-null    object\n",
      " 1   label    643 non-null    object\n",
      "dtypes: object(2)\n",
      "memory usage: 10.2+ KB\n"
     ]
    }
   ],
   "source": [
    "am3.info()"
   ]
  },
  {
   "cell_type": "code",
   "execution_count": 89,
   "metadata": {},
   "outputs": [
    {
     "data": {
      "text/plain": [
       "array(['am', 'random', 'nam'], dtype=object)"
      ]
     },
     "execution_count": 89,
     "metadata": {},
     "output_type": "execute_result"
    }
   ],
   "source": [
    "am3['label'].unique()"
   ]
  },
  {
   "cell_type": "code",
   "execution_count": 90,
   "metadata": {},
   "outputs": [
    {
     "name": "stderr",
     "output_type": "stream",
     "text": [
      "<ipython-input-90-c5572e7e2045>:1: SettingWithCopyWarning: \n",
      "A value is trying to be set on a copy of a slice from a DataFrame.\n",
      "Try using .loc[row_indexer,col_indexer] = value instead\n",
      "\n",
      "See the caveats in the documentation: https://pandas.pydata.org/pandas-docs/stable/user_guide/indexing.html#returning-a-view-versus-a-copy\n",
      "  am3['label'] = am3['label'].apply(lambda x: 'nam' if x == 'random' else x)\n"
     ]
    }
   ],
   "source": [
    "am3['label'] = am3['label'].apply(lambda x: 'nam' if x == 'random' else x)"
   ]
  },
  {
   "cell_type": "code",
   "execution_count": 91,
   "metadata": {},
   "outputs": [
    {
     "data": {
      "text/plain": [
       "array(['am', 'nam'], dtype=object)"
      ]
     },
     "execution_count": 91,
     "metadata": {},
     "output_type": "execute_result"
    }
   ],
   "source": [
    "am3['label'].unique()"
   ]
  },
  {
   "cell_type": "code",
   "execution_count": 96,
   "metadata": {},
   "outputs": [],
   "source": [
    "# combine both am and nam\n",
    "am_nam = pd.concat([am3, nam3])"
   ]
  },
  {
   "cell_type": "code",
   "execution_count": 97,
   "metadata": {},
   "outputs": [
    {
     "name": "stdout",
     "output_type": "stream",
     "text": [
      "<class 'pandas.core.frame.DataFrame'>\n",
      "Int64Index: 1087 entries, 0 to 443\n",
      "Data columns (total 2 columns):\n",
      " #   Column   Non-Null Count  Dtype \n",
      "---  ------   --------------  ----- \n",
      " 0   article  1084 non-null   object\n",
      " 1   label    1087 non-null   object\n",
      "dtypes: object(2)\n",
      "memory usage: 25.5+ KB\n"
     ]
    }
   ],
   "source": [
    "am_nam.info()"
   ]
  },
  {
   "cell_type": "code",
   "execution_count": 99,
   "metadata": {},
   "outputs": [],
   "source": [
    "am_nam.to_csv('cleaned_am_nam_articles.csv')"
   ]
  },
  {
   "cell_type": "markdown",
   "metadata": {},
   "source": [
    "## NLP Preprocessing using Word2Vec"
   ]
  },
  {
   "cell_type": "code",
   "execution_count": 104,
   "metadata": {},
   "outputs": [],
   "source": [
    "# convert 'article' column to 'string'\n",
    "am_nam['article'] = am_nam['article'].astype(str)"
   ]
  },
  {
   "cell_type": "code",
   "execution_count": null,
   "metadata": {},
   "outputs": [],
   "source": [
    "!pip install gensim"
   ]
  },
  {
   "cell_type": "code",
   "execution_count": 118,
   "metadata": {},
   "outputs": [],
   "source": [
    "import gensim"
   ]
  },
  {
   "cell_type": "code",
   "execution_count": null,
   "metadata": {},
   "outputs": [],
   "source": [
    "# Pre-processing such as converting to lowercase, removing stopwords and punctuations etc.\n",
    "import string\n",
    "from nltk.tokenize import word_tokenize\n",
    "from nltk.corpus import stopwords\n",
    "text = list()\n",
    "line = am_nam['article'].values.tolist()\n",
    "for l in line:\n",
    "    print(l)\n",
    "    token = word_tokenize(l)\n",
    "    token = [t.lower() for t in token]\n",
    "    punct = str.maketrans('','',string.punctuation)\n",
    "    translate = [t.translate(punct) for t in token]\n",
    "    words = [word for word in translate if word.isalpha()]\n",
    "    stop = set(stopwords.words('english'))\n",
    "    words = [t for t in words if not t in stop]\n",
    "    text.append(words)"
   ]
  },
  {
   "cell_type": "code",
   "execution_count": 135,
   "metadata": {},
   "outputs": [
    {
     "data": {
      "text/plain": [
       "1087"
      ]
     },
     "execution_count": 135,
     "metadata": {},
     "output_type": "execute_result"
    }
   ],
   "source": [
    "len(text)"
   ]
  },
  {
   "cell_type": "code",
   "execution_count": 136,
   "metadata": {},
   "outputs": [],
   "source": [
    "model = gensim.models.Word2Vec(sentences = text, size = 100, window = 2, workers = 3, min_count = 1)"
   ]
  },
  {
   "cell_type": "code",
   "execution_count": 137,
   "metadata": {},
   "outputs": [
    {
     "name": "stdout",
     "output_type": "stream",
     "text": [
      "Vocab size 29269\n"
     ]
    }
   ],
   "source": [
    "words = list(model.wv.vocab)\n",
    "print('Vocab size', len(words))"
   ]
  },
  {
   "cell_type": "code",
   "execution_count": 138,
   "metadata": {},
   "outputs": [],
   "source": [
    "max_length = max([len(s.split()) for s in am_nam['article']])"
   ]
  },
  {
   "cell_type": "code",
   "execution_count": 139,
   "metadata": {},
   "outputs": [],
   "source": [
    "file = 'word2vec.txt'"
   ]
  },
  {
   "cell_type": "code",
   "execution_count": 140,
   "metadata": {},
   "outputs": [],
   "source": [
    "# save model\n",
    "model.wv.save_word2vec_format(file,binary = False)"
   ]
  },
  {
   "cell_type": "code",
   "execution_count": null,
   "metadata": {},
   "outputs": [],
   "source": [
    "!pip install tensorflow"
   ]
  },
  {
   "cell_type": "code",
   "execution_count": 146,
   "metadata": {},
   "outputs": [],
   "source": [
    "import tensorflow"
   ]
  },
  {
   "cell_type": "code",
   "execution_count": 147,
   "metadata": {},
   "outputs": [],
   "source": [
    "from tensorflow.python.keras.preprocessing.text import Tokenizer\n",
    "from tensorflow.python.keras.preprocessing.sequence import pad_sequences"
   ]
  },
  {
   "cell_type": "code",
   "execution_count": 142,
   "metadata": {},
   "outputs": [],
   "source": [
    "import os\n",
    "emb = {}\n",
    "f = open(os.path.join('', 'word2vec.txt'), encoding = 'utf-8')\n",
    "for line in f:\n",
    "    values = line.split()\n",
    "    word = values[0]\n",
    "    value = np.asarray(values[1:])\n",
    "    emb[word] = value\n",
    "f.close()"
   ]
  },
  {
   "cell_type": "code",
   "execution_count": null,
   "metadata": {},
   "outputs": [],
   "source": [
    "token = Tokenizer()\n",
    "token.fit_on_texts(tokenized_text)\n",
    "seq = token.texts_to_sequences(tokenized_text)\n",
    "index = token.word_index\n",
    "print('unique no of tokens ', index)\n",
    "padding = pad_sequences(seq, maxlen = max_length)\n",
    "labels = am_nam['label'].values"
   ]
  },
  {
   "cell_type": "code",
   "execution_count": null,
   "metadata": {},
   "outputs": [],
   "source": [
    "n = len(index) + 1\n",
    "embed_mat = np.zeros((n, 100))\n",
    "for s,values in index.items():\n",
    "    print(s,values)\n",
    "    if values>n:\n",
    "        continue\n",
    "    embed_vec = emb.get(s)\n",
    "    if embed_vec is not None:\n",
    "        embed_mat[values] = embed_vec"
   ]
  },
  {
   "cell_type": "code",
   "execution_count": 151,
   "metadata": {},
   "outputs": [
    {
     "data": {
      "text/plain": [
       "(18256, 100)"
      ]
     },
     "execution_count": 151,
     "metadata": {},
     "output_type": "execute_result"
    }
   ],
   "source": [
    "embed_mat.shape"
   ]
  },
  {
   "cell_type": "code",
   "execution_count": 152,
   "metadata": {},
   "outputs": [
    {
     "data": {
      "text/plain": [
       "18255"
      ]
     },
     "execution_count": 152,
     "metadata": {},
     "output_type": "execute_result"
    }
   ],
   "source": [
    "len(index)"
   ]
  },
  {
   "cell_type": "code",
   "execution_count": 153,
   "metadata": {},
   "outputs": [
    {
     "data": {
      "text/plain": [
       "1087"
      ]
     },
     "execution_count": 153,
     "metadata": {},
     "output_type": "execute_result"
    }
   ],
   "source": [
    "len(padding)"
   ]
  },
  {
   "cell_type": "code",
   "execution_count": 154,
   "metadata": {},
   "outputs": [],
   "source": [
    "sorted_words = sorted(index)"
   ]
  },
  {
   "cell_type": "markdown",
   "metadata": {},
   "source": [
    "### Map words with their vectors"
   ]
  },
  {
   "cell_type": "code",
   "execution_count": 160,
   "metadata": {},
   "outputs": [],
   "source": [
    "features = {}\n",
    "d = np.arange(0, len(padding))\n",
    "data = np.zeros((0, len(am_nam)))\n",
    "feat_df = pd.DataFrame(index = d, columns = sorted_words)"
   ]
  },
  {
   "cell_type": "code",
   "execution_count": 161,
   "metadata": {},
   "outputs": [
    {
     "data": {
      "text/plain": [
       "(1087, 18255)"
      ]
     },
     "execution_count": 161,
     "metadata": {},
     "output_type": "execute_result"
    }
   ],
   "source": [
    "feat_df.shape"
   ]
  },
  {
   "cell_type": "code",
   "execution_count": 162,
   "metadata": {},
   "outputs": [],
   "source": [
    "# fill 0 if there is any null value in column\n",
    "feat_df.fillna(0.0, inplace = True)"
   ]
  },
  {
   "cell_type": "code",
   "execution_count": null,
   "metadata": {},
   "outputs": [],
   "source": [
    "#combining features with mean\n",
    "for row in range(0, len(padding)):\n",
    "    print(row)\n",
    "    for number in padding[row]:\n",
    "        for key,value in index.items():\n",
    "            if number == value:\n",
    "                mean = embed_mat[number].mean()\n",
    "                if (feat_df.iloc[row][key] == 0.0):\n",
    "                    feat_df.loc[row,key] = mean\n",
    "                \n",
    "                else:\n",
    "                    feat_df.loc[row,key] = feat_df.iloc[row][key] + mean\n",
    "                break"
   ]
  },
  {
   "cell_type": "code",
   "execution_count": 166,
   "metadata": {},
   "outputs": [
    {
     "data": {
      "text/plain": [
       "1086"
      ]
     },
     "execution_count": 166,
     "metadata": {},
     "output_type": "execute_result"
    }
   ],
   "source": [
    "row"
   ]
  },
  {
   "cell_type": "code",
   "execution_count": 165,
   "metadata": {},
   "outputs": [],
   "source": [
    "# saving embeddings to file\n",
    "feat_df.to_csv('features of word2vec embeddings.csv')"
   ]
  },
  {
   "cell_type": "code",
   "execution_count": 167,
   "metadata": {},
   "outputs": [
    {
     "data": {
      "text/html": [
       "<div>\n",
       "<style scoped>\n",
       "    .dataframe tbody tr th:only-of-type {\n",
       "        vertical-align: middle;\n",
       "    }\n",
       "\n",
       "    .dataframe tbody tr th {\n",
       "        vertical-align: top;\n",
       "    }\n",
       "\n",
       "    .dataframe thead th {\n",
       "        text-align: right;\n",
       "    }\n",
       "</style>\n",
       "<table border=\"1\" class=\"dataframe\">\n",
       "  <thead>\n",
       "    <tr style=\"text-align: right;\">\n",
       "      <th></th>\n",
       "      <th>Unnamed: 0</th>\n",
       "      <th>aabar</th>\n",
       "      <th>aadhaar</th>\n",
       "      <th>aadhar</th>\n",
       "      <th>aadmi</th>\n",
       "      <th>aamaaq</th>\n",
       "      <th>aampl</th>\n",
       "      <th>aarnio</th>\n",
       "      <th>aaron</th>\n",
       "      <th>aarp</th>\n",
       "      <th>...</th>\n",
       "      <th>zurfi</th>\n",
       "      <th>zurich</th>\n",
       "      <th>zvake</th>\n",
       "      <th>zvavamw</th>\n",
       "      <th>zvemushonga</th>\n",
       "      <th>zviad</th>\n",
       "      <th>zvigananda</th>\n",
       "      <th>zvipang</th>\n",
       "      <th>zviri</th>\n",
       "      <th>zvornik</th>\n",
       "    </tr>\n",
       "  </thead>\n",
       "  <tbody>\n",
       "    <tr>\n",
       "      <th>0</th>\n",
       "      <td>0</td>\n",
       "      <td>0.0</td>\n",
       "      <td>0.0</td>\n",
       "      <td>0.0</td>\n",
       "      <td>0.0</td>\n",
       "      <td>0.0</td>\n",
       "      <td>0.0</td>\n",
       "      <td>0.0</td>\n",
       "      <td>0.0</td>\n",
       "      <td>0.0</td>\n",
       "      <td>...</td>\n",
       "      <td>0.0</td>\n",
       "      <td>0.0</td>\n",
       "      <td>0.0</td>\n",
       "      <td>0.0</td>\n",
       "      <td>0.0</td>\n",
       "      <td>0.0</td>\n",
       "      <td>0.0</td>\n",
       "      <td>0.0</td>\n",
       "      <td>0.0</td>\n",
       "      <td>0.0</td>\n",
       "    </tr>\n",
       "    <tr>\n",
       "      <th>1</th>\n",
       "      <td>1</td>\n",
       "      <td>0.0</td>\n",
       "      <td>0.0</td>\n",
       "      <td>0.0</td>\n",
       "      <td>0.0</td>\n",
       "      <td>0.0</td>\n",
       "      <td>0.0</td>\n",
       "      <td>0.0</td>\n",
       "      <td>0.0</td>\n",
       "      <td>0.0</td>\n",
       "      <td>...</td>\n",
       "      <td>0.0</td>\n",
       "      <td>0.0</td>\n",
       "      <td>0.0</td>\n",
       "      <td>0.0</td>\n",
       "      <td>0.0</td>\n",
       "      <td>0.0</td>\n",
       "      <td>0.0</td>\n",
       "      <td>0.0</td>\n",
       "      <td>0.0</td>\n",
       "      <td>0.0</td>\n",
       "    </tr>\n",
       "    <tr>\n",
       "      <th>2</th>\n",
       "      <td>2</td>\n",
       "      <td>0.0</td>\n",
       "      <td>0.0</td>\n",
       "      <td>0.0</td>\n",
       "      <td>0.0</td>\n",
       "      <td>0.0</td>\n",
       "      <td>0.0</td>\n",
       "      <td>0.0</td>\n",
       "      <td>0.0</td>\n",
       "      <td>0.0</td>\n",
       "      <td>...</td>\n",
       "      <td>0.0</td>\n",
       "      <td>0.0</td>\n",
       "      <td>0.0</td>\n",
       "      <td>0.0</td>\n",
       "      <td>0.0</td>\n",
       "      <td>0.0</td>\n",
       "      <td>0.0</td>\n",
       "      <td>0.0</td>\n",
       "      <td>0.0</td>\n",
       "      <td>0.0</td>\n",
       "    </tr>\n",
       "    <tr>\n",
       "      <th>3</th>\n",
       "      <td>3</td>\n",
       "      <td>0.0</td>\n",
       "      <td>0.0</td>\n",
       "      <td>0.0</td>\n",
       "      <td>0.0</td>\n",
       "      <td>0.0</td>\n",
       "      <td>0.0</td>\n",
       "      <td>0.0</td>\n",
       "      <td>0.0</td>\n",
       "      <td>0.0</td>\n",
       "      <td>...</td>\n",
       "      <td>0.0</td>\n",
       "      <td>0.0</td>\n",
       "      <td>0.0</td>\n",
       "      <td>0.0</td>\n",
       "      <td>0.0</td>\n",
       "      <td>0.0</td>\n",
       "      <td>0.0</td>\n",
       "      <td>0.0</td>\n",
       "      <td>0.0</td>\n",
       "      <td>0.0</td>\n",
       "    </tr>\n",
       "    <tr>\n",
       "      <th>4</th>\n",
       "      <td>4</td>\n",
       "      <td>0.0</td>\n",
       "      <td>0.0</td>\n",
       "      <td>0.0</td>\n",
       "      <td>0.0</td>\n",
       "      <td>0.0</td>\n",
       "      <td>0.0</td>\n",
       "      <td>0.0</td>\n",
       "      <td>0.0</td>\n",
       "      <td>0.0</td>\n",
       "      <td>...</td>\n",
       "      <td>0.0</td>\n",
       "      <td>0.0</td>\n",
       "      <td>0.0</td>\n",
       "      <td>0.0</td>\n",
       "      <td>0.0</td>\n",
       "      <td>0.0</td>\n",
       "      <td>0.0</td>\n",
       "      <td>0.0</td>\n",
       "      <td>0.0</td>\n",
       "      <td>0.0</td>\n",
       "    </tr>\n",
       "  </tbody>\n",
       "</table>\n",
       "<p>5 rows × 18256 columns</p>\n",
       "</div>"
      ],
      "text/plain": [
       "   Unnamed: 0  aabar  aadhaar  aadhar  aadmi  aamaaq  aampl  aarnio  aaron  \\\n",
       "0  0           0.0    0.0      0.0     0.0    0.0     0.0    0.0     0.0     \n",
       "1  1           0.0    0.0      0.0     0.0    0.0     0.0    0.0     0.0     \n",
       "2  2           0.0    0.0      0.0     0.0    0.0     0.0    0.0     0.0     \n",
       "3  3           0.0    0.0      0.0     0.0    0.0     0.0    0.0     0.0     \n",
       "4  4           0.0    0.0      0.0     0.0    0.0     0.0    0.0     0.0     \n",
       "\n",
       "   aarp  ...  zurfi  zurich  zvake  zvavamw  zvemushonga  zviad  zvigananda  \\\n",
       "0  0.0   ...  0.0    0.0     0.0    0.0      0.0          0.0    0.0          \n",
       "1  0.0   ...  0.0    0.0     0.0    0.0      0.0          0.0    0.0          \n",
       "2  0.0   ...  0.0    0.0     0.0    0.0      0.0          0.0    0.0          \n",
       "3  0.0   ...  0.0    0.0     0.0    0.0      0.0          0.0    0.0          \n",
       "4  0.0   ...  0.0    0.0     0.0    0.0      0.0          0.0    0.0          \n",
       "\n",
       "   zvipang  zviri  zvornik  \n",
       "0  0.0      0.0    0.0      \n",
       "1  0.0      0.0    0.0      \n",
       "2  0.0      0.0    0.0      \n",
       "3  0.0      0.0    0.0      \n",
       "4  0.0      0.0    0.0      \n",
       "\n",
       "[5 rows x 18256 columns]"
      ]
     },
     "execution_count": 167,
     "metadata": {},
     "output_type": "execute_result"
    }
   ],
   "source": [
    "feat_df = pd.read_csv('features of word2vec embeddings.csv')\n",
    "feat_df.head()"
   ]
  },
  {
   "cell_type": "code",
   "execution_count": 168,
   "metadata": {},
   "outputs": [
    {
     "name": "stdout",
     "output_type": "stream",
     "text": [
      "<class 'pandas.core.frame.DataFrame'>\n",
      "RangeIndex: 1087 entries, 0 to 1086\n",
      "Columns: 18256 entries, Unnamed: 0 to zvornik\n",
      "dtypes: float64(18255), int64(1)\n",
      "memory usage: 151.4 MB\n"
     ]
    }
   ],
   "source": [
    "feat_df.info()"
   ]
  },
  {
   "cell_type": "code",
   "execution_count": 184,
   "metadata": {},
   "outputs": [],
   "source": [
    "feat_df.drop('Unnamed: 0', axis = 1, inplace = True)"
   ]
  },
  {
   "cell_type": "code",
   "execution_count": 185,
   "metadata": {},
   "outputs": [
    {
     "name": "stdout",
     "output_type": "stream",
     "text": [
      "<class 'pandas.core.frame.DataFrame'>\n",
      "RangeIndex: 1087 entries, 0 to 1086\n",
      "Columns: 18255 entries, aabar to zvornik\n",
      "dtypes: float64(18255)\n",
      "memory usage: 151.4 MB\n"
     ]
    }
   ],
   "source": [
    "feat_df.info()"
   ]
  },
  {
   "cell_type": "code",
   "execution_count": 187,
   "metadata": {},
   "outputs": [],
   "source": [
    "feat_df.reset_index(drop = True, inplace = True)"
   ]
  },
  {
   "cell_type": "code",
   "execution_count": 189,
   "metadata": {},
   "outputs": [],
   "source": [
    "am_nam.reset_index(drop = True, inplace = True)"
   ]
  },
  {
   "cell_type": "code",
   "execution_count": 169,
   "metadata": {},
   "outputs": [],
   "source": [
    "feat_df=feat_df.fillna(0)"
   ]
  },
  {
   "cell_type": "code",
   "execution_count": 181,
   "metadata": {},
   "outputs": [
    {
     "name": "stdout",
     "output_type": "stream",
     "text": [
      "<class 'pandas.core.frame.DataFrame'>\n",
      "Int64Index: 1087 entries, 0 to 443\n",
      "Data columns (total 2 columns):\n",
      " #   Column      Non-Null Count  Dtype \n",
      "---  ------      --------------  ----- \n",
      " 0   label       1087 non-null   object\n",
      " 1   clean_text  1087 non-null   object\n",
      "dtypes: object(2)\n",
      "memory usage: 65.5+ KB\n"
     ]
    }
   ],
   "source": [
    "am_nam.info()"
   ]
  },
  {
   "cell_type": "markdown",
   "metadata": {},
   "source": [
    "### Combining Features into 1 dataframe"
   ]
  },
  {
   "cell_type": "code",
   "execution_count": 170,
   "metadata": {},
   "outputs": [],
   "source": [
    "am_nam.drop('article', axis = 1, inplace = True)"
   ]
  },
  {
   "cell_type": "code",
   "execution_count": 190,
   "metadata": {},
   "outputs": [],
   "source": [
    "X_new = pd.concat([feat_df, am_nam], axis=1)"
   ]
  },
  {
   "cell_type": "code",
   "execution_count": 191,
   "metadata": {},
   "outputs": [
    {
     "data": {
      "text/plain": [
       "(1087, 18257)"
      ]
     },
     "execution_count": 191,
     "metadata": {},
     "output_type": "execute_result"
    }
   ],
   "source": [
    "X_new.shape"
   ]
  },
  {
   "cell_type": "code",
   "execution_count": null,
   "metadata": {},
   "outputs": [],
   "source": [
    "X_new.fillna(0)"
   ]
  },
  {
   "cell_type": "code",
   "execution_count": 195,
   "metadata": {},
   "outputs": [
    {
     "data": {
      "text/html": [
       "<div>\n",
       "<style scoped>\n",
       "    .dataframe tbody tr th:only-of-type {\n",
       "        vertical-align: middle;\n",
       "    }\n",
       "\n",
       "    .dataframe tbody tr th {\n",
       "        vertical-align: top;\n",
       "    }\n",
       "\n",
       "    .dataframe thead th {\n",
       "        text-align: right;\n",
       "    }\n",
       "</style>\n",
       "<table border=\"1\" class=\"dataframe\">\n",
       "  <thead>\n",
       "    <tr style=\"text-align: right;\">\n",
       "      <th></th>\n",
       "      <th>aabar</th>\n",
       "      <th>aadhaar</th>\n",
       "      <th>aadhar</th>\n",
       "      <th>aadmi</th>\n",
       "      <th>aamaaq</th>\n",
       "      <th>aampl</th>\n",
       "      <th>aarnio</th>\n",
       "      <th>aaron</th>\n",
       "      <th>aarp</th>\n",
       "      <th>ababa</th>\n",
       "      <th>...</th>\n",
       "      <th>zvake</th>\n",
       "      <th>zvavamw</th>\n",
       "      <th>zvemushonga</th>\n",
       "      <th>zviad</th>\n",
       "      <th>zvigananda</th>\n",
       "      <th>zvipang</th>\n",
       "      <th>zviri</th>\n",
       "      <th>zvornik</th>\n",
       "      <th>label</th>\n",
       "      <th>clean_text</th>\n",
       "    </tr>\n",
       "  </thead>\n",
       "  <tbody>\n",
       "    <tr>\n",
       "      <th>0</th>\n",
       "      <td>0.0</td>\n",
       "      <td>0.0</td>\n",
       "      <td>0.0</td>\n",
       "      <td>0.0</td>\n",
       "      <td>0.0</td>\n",
       "      <td>0.0</td>\n",
       "      <td>0.0</td>\n",
       "      <td>0.0</td>\n",
       "      <td>0.0</td>\n",
       "      <td>0.0</td>\n",
       "      <td>...</td>\n",
       "      <td>0.0</td>\n",
       "      <td>0.0</td>\n",
       "      <td>0.0</td>\n",
       "      <td>0.0</td>\n",
       "      <td>0.0</td>\n",
       "      <td>0.0</td>\n",
       "      <td>0.0</td>\n",
       "      <td>0.0</td>\n",
       "      <td>am</td>\n",
       "      <td>berni madoff schedul sentenc june perpetr histori biggest ponzi scheme just latest long line industri titan turn crook crimin execut offic waksal imclon convict octob secur fraud bank fraud obstruct justic perjuri known network skill much scientif expertis immunologist waksal found imclon york base biotech firm remain rel unknown until when announc creation erbitux cancer fight drug promis convinc pharmaceut giant bristol myer purchas billion imclon stock largest biotechnolog partnership histori when food drug administr reject drug waksal alert sever rel friend dump their stock soon possibl befor decis been made public waksal father daughter sold million worth imclon move that caught attent eventu arrest though waksal plead guilti publicli apolog famili colleagu million cancer patient held such high hope erbitux judg william pauley dismiss call lenienc note that waksal contribut mere half percent million fortun chariti fallen entrepreneur paid million fine restitut serv month prison releas scandal most infam casualti howev turn waksal martha stewart unload compani share just day befor decis been announc avoid lose estim domest diva five month prison result</td>\n",
       "    </tr>\n",
       "    <tr>\n",
       "      <th>1</th>\n",
       "      <td>0.0</td>\n",
       "      <td>0.0</td>\n",
       "      <td>0.0</td>\n",
       "      <td>0.0</td>\n",
       "      <td>0.0</td>\n",
       "      <td>0.0</td>\n",
       "      <td>0.0</td>\n",
       "      <td>0.0</td>\n",
       "      <td>0.0</td>\n",
       "      <td>0.0</td>\n",
       "      <td>...</td>\n",
       "      <td>0.0</td>\n",
       "      <td>0.0</td>\n",
       "      <td>0.0</td>\n",
       "      <td>0.0</td>\n",
       "      <td>0.0</td>\n",
       "      <td>0.0</td>\n",
       "      <td>0.0</td>\n",
       "      <td>0.0</td>\n",
       "      <td>am</td>\n",
       "      <td>publish world lead fund manag been forc resign after discov broken invest rule mark den help manag more than investor money capit group panorama uncov evid that suggest secretli acquir share benefit some same compani fund den work firm year deni wrongdo year fund manag left five day after panorama wrote capit group about find investig capit group which manag almost trillion asset said den longer with firm have code ethic person invest disclosur requir that hold associ highest standard conduct when learn thi matter took immedi action said fund manag suppos invest same compani their fund becaus they could potenti profit expens investor thi becaus their size mean fund drive compani share price when they invest fund manag could thi power push share price compani where they have person invest rather than pick compani that offer best return investor leak document panorama investig discov that share were bought den instruct through secret fund base liechtenstein call morebath fund global opportun leak document show morebath fund invest medic research compani call mesoblast indian film compani call ero intern gold mine compani call hummingbird resourc capit group fund also invest three compani invest mesoblast ero were made fund that den himself help manag case hummingbird resourc den appear have anoth potenti conflict interest compani expert financi rule told panorama that privat purchas den could repres seriou conflict interest michael ruck investig partner firm said whole point behind regim relat declar conflict interest protect investor there intent fund manag financi benefit themselv then that doe rais seriou concern relat their action stake three compani were ultim held through offshor entiti call kinrara trust control den compli with duti den lawyer deni that own share three compani becaus they beneficiari kinrara trust client declar interest kinrara trust former employ becaus been irrevoc exclud beneficiari believ that compli with relev duti den lawyer receiv advic they also morebath fund independ asset manag fund administr howev panorama seen evid that den behind share purchas three compani document show morebath fund regularli includ summari person asset den appear have name liechtenstein base fund after villag morebath north devon own nine bedroom hous morebath manor acr parkland villag fund manag also own luxuri home chelsea bahama controversi energi deal den use work capit group london approv citi watchdog financi conduct author until howev four fund manag were aim american investor been work from compani offic angel panorama also discov that kinrara trust own kinrara intern compani that profit from controversi energi deal seneg kinrara intern made after explor right huge field senegales coast were sold expert have told panorama that they believ den should also have declar thi becaus capit group invest anoth compani involv deal call kosmo energi den lawyer never been legal benefici owner kinrara intern</td>\n",
       "    </tr>\n",
       "    <tr>\n",
       "      <th>2</th>\n",
       "      <td>0.0</td>\n",
       "      <td>0.0</td>\n",
       "      <td>0.0</td>\n",
       "      <td>0.0</td>\n",
       "      <td>0.0</td>\n",
       "      <td>0.0</td>\n",
       "      <td>0.0</td>\n",
       "      <td>0.0</td>\n",
       "      <td>0.0</td>\n",
       "      <td>0.0</td>\n",
       "      <td>...</td>\n",
       "      <td>0.0</td>\n",
       "      <td>0.0</td>\n",
       "      <td>0.0</td>\n",
       "      <td>0.0</td>\n",
       "      <td>0.0</td>\n",
       "      <td>0.0</td>\n",
       "      <td>0.0</td>\n",
       "      <td>0.0</td>\n",
       "      <td>am</td>\n",
       "      <td>webpag inlanguag code</td>\n",
       "    </tr>\n",
       "    <tr>\n",
       "      <th>3</th>\n",
       "      <td>0.0</td>\n",
       "      <td>0.0</td>\n",
       "      <td>0.0</td>\n",
       "      <td>0.0</td>\n",
       "      <td>0.0</td>\n",
       "      <td>0.0</td>\n",
       "      <td>0.0</td>\n",
       "      <td>0.0</td>\n",
       "      <td>0.0</td>\n",
       "      <td>0.0</td>\n",
       "      <td>...</td>\n",
       "      <td>0.0</td>\n",
       "      <td>0.0</td>\n",
       "      <td>0.0</td>\n",
       "      <td>0.0</td>\n",
       "      <td>0.0</td>\n",
       "      <td>0.0</td>\n",
       "      <td>0.0</td>\n",
       "      <td>0.0</td>\n",
       "      <td>am</td>\n",
       "      <td>washington american secur contractor accus rank congoles offici order detent tortur declar lawsuit that they demand confess fals be part plot overthrow countri govern darryl lewi forc veteran said associ press interview thi week that illeg held congo capit kinshasa nearli week interrog much hour member congo nation intellig agenc congo intellig chief kalev mutond congoles justic minist alexi thambw mwamba act concert have detain tortur threaten with indefinit imprison fals charg accord lawsuit file juli feder court washington fear life from they captur lewi said said never confess congo ambassador francoi balumuen said statement thursday that lewi detain becaus have proper work permit deni lewi been mistreat call lawsuit unsubstanti alleg enforc author congo releas lewi june after extens diplomat effort negoti lawsuit said lewi seek least million compensatori punit damag lawsuit come amid mount tension ahead novemb presidenti elect congo opposit leader claim that presid joseph kabila want delay vote stay power past mandat that expir year countri constitut bar kabila from run third term congo relat with washington have fray over last year repeat report that kabila govern crack down polit foe activist treasuri depart june sanction congoles polic offici activist link dozen death depart statement announc sanction against celestin kanyama note pattern repress kabila govern lewi been work unarm secur advis mois katumbi congo lead opposit candid presid katumbi kabila harshest critic been charg separ author congo with hire mercenari katumbi support have deni alleg move aim derail presid lawsuit mwamba describ be convinc that lewi hundr other citizen infiltr congo sinc last octob help katumbi overthrow govern assassin kabila lewi militari background made especi suspect press confer mwamba display evid photo lewi hold larg machin lewi said photo taken when work contractor kosovo congoles author must have pull from linkedin account said photo sinc been replac with anoth lewi mwamba declin comment specif lewi lawsuit congoles would found have act lewi congo sure would have explain himself befor other author said lawsuit said lewi three colleagu were stop surround congoles riot polic april they were drive near polit ralli that katumbi attend citi lubumbashi they were unarm break law accord lewi onli american group soon sever member congo intellig agenc were name suit arriv they handcuf physic assault lewi colleagu point door slam into elbow lawsuit said lewi said they were taken filthi unsanitari jail lubumbashi separ cell assault abus accord lawsuit bound hand were pull behind back creat pain pressur shoulder joint dure night lewi could hear captor brutal beat interrog colleagu next lewi said warn next lewi transport intellig agenc headquart kinshasa over next week question long period depriv sleep accord lawsuit captor gave just small meal lewi said captor also began seri mind game such use inform about ail mother wear down secur confess lewi charg with crime befor releas</td>\n",
       "    </tr>\n",
       "    <tr>\n",
       "      <th>4</th>\n",
       "      <td>0.0</td>\n",
       "      <td>0.0</td>\n",
       "      <td>0.0</td>\n",
       "      <td>0.0</td>\n",
       "      <td>0.0</td>\n",
       "      <td>0.0</td>\n",
       "      <td>0.0</td>\n",
       "      <td>0.0</td>\n",
       "      <td>0.0</td>\n",
       "      <td>0.0</td>\n",
       "      <td>...</td>\n",
       "      <td>0.0</td>\n",
       "      <td>0.0</td>\n",
       "      <td>0.0</td>\n",
       "      <td>0.0</td>\n",
       "      <td>0.0</td>\n",
       "      <td>0.0</td>\n",
       "      <td>0.0</td>\n",
       "      <td>0.0</td>\n",
       "      <td>am</td>\n",
       "      <td>senior figur bitcoin foundat which lobbi behalf digit currenc been arrest conspiraci commit money launder knowingli contribut anonym drug sale prosecutor announc monday that charli shrem organis vice chairman arrest john kennedi airport york york sunday news come major blow digit currenc lobbi group support includ tyler cameron winklevoss twin famou earli involv with facebook have becom backer digit currenc they said statement monday that they were deepli concern news second robert faiella also been arrest charg same crime relat oper small bitcoin exchang under name btcking charg unseal attorney southern district york preet bharara accus pair engag scheme sell over bitcoin user silk road onlin black marketplac which close octob shrem been highest profil execut bitcoin foundat arrest come staff foundat have been work hard distanc digit currenc from link crime testifi senat last year been lobbi regul washington patrick murck bitcoin gener counsel said think damag foundat foundat wasn involv alleg jame hunt agent drug enforc administr agent said statement charg announc today depict enforc commit identifi those promot sale illeg drug throughout world hide behind their comput both defend charg with knowingli contribut facilit anonym drug sale earn substanti profit along charg stem from shrem ownership bitinst bitcoin exchang which chief execut founder complianc offic exchang headlin when winklevoss twin seed round which rais invest time charg unfortun winklevoss brother speak thi week confer digit currenc held york state depart financi servic statement twin said when invest bitinst fall manag made commit that they would abid applic law includ money launder law expect noth less although bitinst name today indict charli shrem obvious deepli concern about arrest were passiv investor bitinst will everyth help enforc offici fulli support government effort ensur that money launder requir enforc look forward clearer regul be implement purchas sale bitcoin shrem addit charg with wil fail file suspici activ report regard faiella illeg transact through compani document reveal alleg robert faiella charli shrem scheme sell over bitcoin crimin bent traffick narcot dark drug site silk road said bharara truli innov busi model need resort fashion break when bitcoin like tradit currenc launder use fuel crimin activ enforc choic will aggress pursu those would form currenc illicit purpos substanc alleg that faiella offer bitcoin sale silk road websit move which would entail know their involv drug trade those bitcoin were purchas from bitinst exchang shrem complianc offic exchang charg ensur complianc anti money launder rule charg deliv agent assign york organis crime drug enforc strike forc alleg that onli shrem knowingli allow faiella compani servic bitcoin silk road custom person process faiella transact gave faiella discount high volum order wil fail file suspici activ report about faiella deliber help faiella circumv compani anti money launder restrict even though shrem enforc them decemb shrem profil news websit vocativ piec titl night with bitcoin millionair proud stoner charli shrem shrem tell report eric markowitz that hire unless drink with smoke weed with say that forc temporarili close bitinst sever time increas regulatori scrutini want exist year from want make sure duck tell markowitz right they winklevoss brother invest bitinst just small part their total invest bitcoin relat compani follow news shrem faiella arrest price bitcoin mtgox exchang drop</td>\n",
       "    </tr>\n",
       "  </tbody>\n",
       "</table>\n",
       "<p>5 rows × 18257 columns</p>\n",
       "</div>"
      ],
      "text/plain": [
       "   aabar  aadhaar  aadhar  aadmi  aamaaq  aampl  aarnio  aaron  aarp  ababa  \\\n",
       "0  0.0    0.0      0.0     0.0    0.0     0.0    0.0     0.0    0.0   0.0     \n",
       "1  0.0    0.0      0.0     0.0    0.0     0.0    0.0     0.0    0.0   0.0     \n",
       "2  0.0    0.0      0.0     0.0    0.0     0.0    0.0     0.0    0.0   0.0     \n",
       "3  0.0    0.0      0.0     0.0    0.0     0.0    0.0     0.0    0.0   0.0     \n",
       "4  0.0    0.0      0.0     0.0    0.0     0.0    0.0     0.0    0.0   0.0     \n",
       "\n",
       "   ...  zvake  zvavamw  zvemushonga  zviad  zvigananda  zvipang  zviri  \\\n",
       "0  ...  0.0    0.0      0.0          0.0    0.0         0.0      0.0     \n",
       "1  ...  0.0    0.0      0.0          0.0    0.0         0.0      0.0     \n",
       "2  ...  0.0    0.0      0.0          0.0    0.0         0.0      0.0     \n",
       "3  ...  0.0    0.0      0.0          0.0    0.0         0.0      0.0     \n",
       "4  ...  0.0    0.0      0.0          0.0    0.0         0.0      0.0     \n",
       "\n",
       "   zvornik  label  \\\n",
       "0  0.0      am      \n",
       "1  0.0      am      \n",
       "2  0.0      am      \n",
       "3  0.0      am      \n",
       "4  0.0      am      \n",
       "\n",
       "                                                                                                                                                                                                                                                                                                                                                                                                                                                                                                                                                                                                                                                                                                                                                                                                                                                                                                                                                                                                                                                                                                                                                                                                                                                                                                                                                                                                                                                                                                                                                                                                                                                                                                                                                                                                                                                                                                                                                                                                                                                                                                                                                                                                                                                                                                                                                                                                                                                                                                                                                                                                                                                                                                                                                                                                                                                                                                                                                                                                                                                                                                                                                                                                                                                                                                                                                                                                                                                                                                                                                                                                                                       clean_text  \n",
       "0  berni madoff schedul sentenc june perpetr histori biggest ponzi scheme just latest long line industri titan turn crook crimin execut offic waksal imclon convict octob secur fraud bank fraud obstruct justic perjuri known network skill much scientif expertis immunologist waksal found imclon york base biotech firm remain rel unknown until when announc creation erbitux cancer fight drug promis convinc pharmaceut giant bristol myer purchas billion imclon stock largest biotechnolog partnership histori when food drug administr reject drug waksal alert sever rel friend dump their stock soon possibl befor decis been made public waksal father daughter sold million worth imclon move that caught attent eventu arrest though waksal plead guilti publicli apolog famili colleagu million cancer patient held such high hope erbitux judg william pauley dismiss call lenienc note that waksal contribut mere half percent million fortun chariti fallen entrepreneur paid million fine restitut serv month prison releas scandal most infam casualti howev turn waksal martha stewart unload compani share just day befor decis been announc avoid lose estim domest diva five month prison result                                                                                                                                                                                                                                                                                                                                                                                                                                                                                                                                                                                                                                                                                                                                                                                                                                                                                                                                                                                                                                                                                                                                                                                                                                                                                                                                                                                                                                                                                                                                                                                                                                                                                                                                                                                                                                                                                                                                                                                                                                                                                                                                                                                                                                                                                                                                                                                                                          \n",
       "1  publish world lead fund manag been forc resign after discov broken invest rule mark den help manag more than investor money capit group panorama uncov evid that suggest secretli acquir share benefit some same compani fund den work firm year deni wrongdo year fund manag left five day after panorama wrote capit group about find investig capit group which manag almost trillion asset said den longer with firm have code ethic person invest disclosur requir that hold associ highest standard conduct when learn thi matter took immedi action said fund manag suppos invest same compani their fund becaus they could potenti profit expens investor thi becaus their size mean fund drive compani share price when they invest fund manag could thi power push share price compani where they have person invest rather than pick compani that offer best return investor leak document panorama investig discov that share were bought den instruct through secret fund base liechtenstein call morebath fund global opportun leak document show morebath fund invest medic research compani call mesoblast indian film compani call ero intern gold mine compani call hummingbird resourc capit group fund also invest three compani invest mesoblast ero were made fund that den himself help manag case hummingbird resourc den appear have anoth potenti conflict interest compani expert financi rule told panorama that privat purchas den could repres seriou conflict interest michael ruck investig partner firm said whole point behind regim relat declar conflict interest protect investor there intent fund manag financi benefit themselv then that doe rais seriou concern relat their action stake three compani were ultim held through offshor entiti call kinrara trust control den compli with duti den lawyer deni that own share three compani becaus they beneficiari kinrara trust client declar interest kinrara trust former employ becaus been irrevoc exclud beneficiari believ that compli with relev duti den lawyer receiv advic they also morebath fund independ asset manag fund administr howev panorama seen evid that den behind share purchas three compani document show morebath fund regularli includ summari person asset den appear have name liechtenstein base fund after villag morebath north devon own nine bedroom hous morebath manor acr parkland villag fund manag also own luxuri home chelsea bahama controversi energi deal den use work capit group london approv citi watchdog financi conduct author until howev four fund manag were aim american investor been work from compani offic angel panorama also discov that kinrara trust own kinrara intern compani that profit from controversi energi deal seneg kinrara intern made after explor right huge field senegales coast were sold expert have told panorama that they believ den should also have declar thi becaus capit group invest anoth compani involv deal call kosmo energi den lawyer never been legal benefici owner kinrara intern                                                                                                                                                                                                                                                                                                                                                                                                                                                                                                                                                                \n",
       "2  webpag inlanguag code                                                                                                                                                                                                                                                                                                                                                                                                                                                                                                                                                                                                                                                                                                                                                                                                                                                                                                                                                                                                                                                                                                                                                                                                                                                                                                                                                                                                                                                                                                                                                                                                                                                                                                                                                                                                                                                                                                                                                                                                                                                                                                                                                                                                                                                                                                                                                                                                                                                                                                                                                                                                                                                                                                                                                                                                                                                                                                                                                                                                                                                                                                                                                                                                                                                                                                                                                                                                                                                                                                                                                                                                                           \n",
       "3  washington american secur contractor accus rank congoles offici order detent tortur declar lawsuit that they demand confess fals be part plot overthrow countri govern darryl lewi forc veteran said associ press interview thi week that illeg held congo capit kinshasa nearli week interrog much hour member congo nation intellig agenc congo intellig chief kalev mutond congoles justic minist alexi thambw mwamba act concert have detain tortur threaten with indefinit imprison fals charg accord lawsuit file juli feder court washington fear life from they captur lewi said said never confess congo ambassador francoi balumuen said statement thursday that lewi detain becaus have proper work permit deni lewi been mistreat call lawsuit unsubstanti alleg enforc author congo releas lewi june after extens diplomat effort negoti lawsuit said lewi seek least million compensatori punit damag lawsuit come amid mount tension ahead novemb presidenti elect congo opposit leader claim that presid joseph kabila want delay vote stay power past mandat that expir year countri constitut bar kabila from run third term congo relat with washington have fray over last year repeat report that kabila govern crack down polit foe activist treasuri depart june sanction congoles polic offici activist link dozen death depart statement announc sanction against celestin kanyama note pattern repress kabila govern lewi been work unarm secur advis mois katumbi congo lead opposit candid presid katumbi kabila harshest critic been charg separ author congo with hire mercenari katumbi support have deni alleg move aim derail presid lawsuit mwamba describ be convinc that lewi hundr other citizen infiltr congo sinc last octob help katumbi overthrow govern assassin kabila lewi militari background made especi suspect press confer mwamba display evid photo lewi hold larg machin lewi said photo taken when work contractor kosovo congoles author must have pull from linkedin account said photo sinc been replac with anoth lewi mwamba declin comment specif lewi lawsuit congoles would found have act lewi congo sure would have explain himself befor other author said lawsuit said lewi three colleagu were stop surround congoles riot polic april they were drive near polit ralli that katumbi attend citi lubumbashi they were unarm break law accord lewi onli american group soon sever member congo intellig agenc were name suit arriv they handcuf physic assault lewi colleagu point door slam into elbow lawsuit said lewi said they were taken filthi unsanitari jail lubumbashi separ cell assault abus accord lawsuit bound hand were pull behind back creat pain pressur shoulder joint dure night lewi could hear captor brutal beat interrog colleagu next lewi said warn next lewi transport intellig agenc headquart kinshasa over next week question long period depriv sleep accord lawsuit captor gave just small meal lewi said captor also began seri mind game such use inform about ail mother wear down secur confess lewi charg with crime befor releas                                                                                                                                                                                                                                                                                                                                                                                                                                                                                                         \n",
       "4  senior figur bitcoin foundat which lobbi behalf digit currenc been arrest conspiraci commit money launder knowingli contribut anonym drug sale prosecutor announc monday that charli shrem organis vice chairman arrest john kennedi airport york york sunday news come major blow digit currenc lobbi group support includ tyler cameron winklevoss twin famou earli involv with facebook have becom backer digit currenc they said statement monday that they were deepli concern news second robert faiella also been arrest charg same crime relat oper small bitcoin exchang under name btcking charg unseal attorney southern district york preet bharara accus pair engag scheme sell over bitcoin user silk road onlin black marketplac which close octob shrem been highest profil execut bitcoin foundat arrest come staff foundat have been work hard distanc digit currenc from link crime testifi senat last year been lobbi regul washington patrick murck bitcoin gener counsel said think damag foundat foundat wasn involv alleg jame hunt agent drug enforc administr agent said statement charg announc today depict enforc commit identifi those promot sale illeg drug throughout world hide behind their comput both defend charg with knowingli contribut facilit anonym drug sale earn substanti profit along charg stem from shrem ownership bitinst bitcoin exchang which chief execut founder complianc offic exchang headlin when winklevoss twin seed round which rais invest time charg unfortun winklevoss brother speak thi week confer digit currenc held york state depart financi servic statement twin said when invest bitinst fall manag made commit that they would abid applic law includ money launder law expect noth less although bitinst name today indict charli shrem obvious deepli concern about arrest were passiv investor bitinst will everyth help enforc offici fulli support government effort ensur that money launder requir enforc look forward clearer regul be implement purchas sale bitcoin shrem addit charg with wil fail file suspici activ report regard faiella illeg transact through compani document reveal alleg robert faiella charli shrem scheme sell over bitcoin crimin bent traffick narcot dark drug site silk road said bharara truli innov busi model need resort fashion break when bitcoin like tradit currenc launder use fuel crimin activ enforc choic will aggress pursu those would form currenc illicit purpos substanc alleg that faiella offer bitcoin sale silk road websit move which would entail know their involv drug trade those bitcoin were purchas from bitinst exchang shrem complianc offic exchang charg ensur complianc anti money launder rule charg deliv agent assign york organis crime drug enforc strike forc alleg that onli shrem knowingli allow faiella compani servic bitcoin silk road custom person process faiella transact gave faiella discount high volum order wil fail file suspici activ report about faiella deliber help faiella circumv compani anti money launder restrict even though shrem enforc them decemb shrem profil news websit vocativ piec titl night with bitcoin millionair proud stoner charli shrem shrem tell report eric markowitz that hire unless drink with smoke weed with say that forc temporarili close bitinst sever time increas regulatori scrutini want exist year from want make sure duck tell markowitz right they winklevoss brother invest bitinst just small part their total invest bitcoin relat compani follow news shrem faiella arrest price bitcoin mtgox exchang drop  \n",
       "\n",
       "[5 rows x 18257 columns]"
      ]
     },
     "execution_count": 195,
     "metadata": {},
     "output_type": "execute_result"
    }
   ],
   "source": [
    "X_new.head()"
   ]
  },
  {
   "cell_type": "code",
   "execution_count": 193,
   "metadata": {},
   "outputs": [],
   "source": [
    "X_new.to_csv('word2vec_features_with_labels.csv')"
   ]
  },
  {
   "cell_type": "code",
   "execution_count": null,
   "metadata": {},
   "outputs": [],
   "source": [
    "#removing <=4 non zero columns (this is additional step - done to remove noisy words)\n",
    "l = list(X_new.columns)\n",
    "for i in range(0, len(l)):\n",
    "    print(i)\n",
    "    r = X_new[l[i]].to_numpy().nonzero()\n",
    "    if (len(r[0]) <= 4 ):\n",
    "        print('dropping')\n",
    "        X_new.drop(l[i], axis = 1, inplace = True)"
   ]
  },
  {
   "cell_type": "code",
   "execution_count": 197,
   "metadata": {},
   "outputs": [
    {
     "name": "stdout",
     "output_type": "stream",
     "text": [
      "<class 'pandas.core.frame.DataFrame'>\n",
      "RangeIndex: 1087 entries, 0 to 1086\n",
      "Columns: 2839 entries, aaron to clean_text\n",
      "dtypes: float64(2837), object(2)\n",
      "memory usage: 23.5+ MB\n"
     ]
    }
   ],
   "source": [
    "X_new.info()"
   ]
  },
  {
   "cell_type": "code",
   "execution_count": 198,
   "metadata": {},
   "outputs": [
    {
     "data": {
      "text/plain": [
       "(1087, 2839)"
      ]
     },
     "execution_count": 198,
     "metadata": {},
     "output_type": "execute_result"
    }
   ],
   "source": [
    "X_new.shape"
   ]
  },
  {
   "cell_type": "code",
   "execution_count": 199,
   "metadata": {},
   "outputs": [],
   "source": [
    "X_new.to_csv('word2vec_features_with_labels_after_removing_noisy_columns.csv')"
   ]
  }
 ],
 "metadata": {
  "kernelspec": {
   "display_name": "Python 3",
   "language": "python",
   "name": "python3"
  },
  "language_info": {
   "codemirror_mode": {
    "name": "ipython",
    "version": 3
   },
   "file_extension": ".py",
   "mimetype": "text/x-python",
   "name": "python",
   "nbconvert_exporter": "python",
   "pygments_lexer": "ipython3",
   "version": "3.8.3"
  }
 },
 "nbformat": 4,
 "nbformat_minor": 4
}
